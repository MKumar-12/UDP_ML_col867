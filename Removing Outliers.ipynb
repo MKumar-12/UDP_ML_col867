{
 "cells": [
  {
   "cell_type": "code",
   "execution_count": 5,
   "id": "dd6017af",
   "metadata": {},
   "outputs": [
    {
     "name": "stdout",
     "output_type": "stream",
     "text": [
      "Original rows: 2400\n",
      "Filtered rows retained: 1316\n",
      "Rows removed: 1084\n"
     ]
    }
   ],
   "source": [
    "import pandas as pd\n",
    "import os\n",
    "\n",
    "def filter_stream_data(directory):\n",
    "    # File paths\n",
    "    rin_path = os.path.join(directory, 'stream_rates_rin.csv')\n",
    "    rout_path = os.path.join(directory, 'stream_rates_rout.csv')\n",
    "    test_info_path = os.path.join(directory, 'test_info.csv')\n",
    "    \n",
    "    # Read CSV files\n",
    "    rin_df = pd.read_csv(rin_path, header=None, sep=',')\n",
    "    rout_df = pd.read_csv(rout_path, header=None, sep=',')\n",
    "    test_info_df = pd.read_csv(test_info_path, header=None, delim_whitespace=True)\n",
    "\n",
    "    # Convert all values to numeric, coerce errors to NaN\n",
    "    rin_df = rin_df.apply(pd.to_numeric, errors='coerce')\n",
    "    rout_df = rout_df.apply(pd.to_numeric, errors='coerce')\n",
    "\n",
    "    # Create mask where all values in a row are < 500 and not NaN\n",
    "    valid_rin = (rin_df < 500).all(axis=1) & rin_df.notna().all(axis=1)\n",
    "    valid_rout = (rout_df < 500).all(axis=1) & rout_df.notna().all(axis=1)\n",
    "\n",
    "    # Combine masks\n",
    "    valid_rows = valid_rin & valid_rout\n",
    "\n",
    "    # Apply mask\n",
    "    filtered_rin = rin_df[valid_rows].reset_index(drop=True)\n",
    "    filtered_rout = rout_df[valid_rows].reset_index(drop=True)\n",
    "    filtered_test_info = test_info_df[valid_rows].reset_index(drop=True)\n",
    "\n",
    "    # Save outputs\n",
    "    filtered_rin.to_csv(os.path.join(directory, 'filtered_stream_rates_rin.csv'), index=False, header=False)\n",
    "    filtered_rout.to_csv(os.path.join(directory, 'filtered_stream_rates_rout.csv'), index=False, header=False)\n",
    "    filtered_test_info.to_csv(os.path.join(directory, 'filtered_test_info.csv'), index=False, header=False)\n",
    "\n",
    "    # Report\n",
    "    print(f\"Original rows: {len(rin_df)}\")\n",
    "    print(f\"Filtered rows retained: {len(filtered_rin)}\")\n",
    "    print(f\"Rows removed: {len(rin_df) - len(filtered_rin)}\")\n",
    "\n",
    "# Run it\n",
    "filter_stream_data('Data_D1/')\n"
   ]
  },
  {
   "cell_type": "code",
   "execution_count": 6,
   "id": "0d25ff21",
   "metadata": {},
   "outputs": [
    {
     "name": "stdout",
     "output_type": "stream",
     "text": [
      "Data has been split and saved to 'split_output.csv'.\n"
     ]
    }
   ],
   "source": [
    "import pandas as pd\n",
    "\n",
    "def split_column_in_csv(file_path):\n",
    "    # Read the CSV file\n",
    "    df = pd.read_csv(file_path, header=None)\n",
    "\n",
    "    # Split the single column into two columns\n",
    "    # Assuming the column with comma-separated values is the first column (index 0)\n",
    "    df[[0, 1]] = df[0].str.split(',', expand=True)\n",
    "\n",
    "    # Save the result to a new CSV file\n",
    "    df.to_csv('Data_D1/filtered_test_info.csv', index=False, header=False)\n",
    "\n",
    "    print(\"Data has been split and saved to 'split_output.csv'.\")\n",
    "\n",
    "# Provide the path to your CSV file\n",
    "split_column_in_csv('Data_D1/filtered_test_info.csv')\n"
   ]
  },
  {
   "cell_type": "code",
   "execution_count": null,
   "id": "f2838ffd",
   "metadata": {},
   "outputs": [],
   "source": []
  }
 ],
 "metadata": {
  "kernelspec": {
   "display_name": "Python 3 (ipykernel)",
   "language": "python",
   "name": "python3"
  },
  "language_info": {
   "codemirror_mode": {
    "name": "ipython",
    "version": 3
   },
   "file_extension": ".py",
   "mimetype": "text/x-python",
   "name": "python",
   "nbconvert_exporter": "python",
   "pygments_lexer": "ipython3",
   "version": "3.11.7"
  }
 },
 "nbformat": 4,
 "nbformat_minor": 5
}
