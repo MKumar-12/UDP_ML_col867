{
 "cells": [
  {
   "cell_type": "code",
   "execution_count": 19,
   "id": "dd6017af",
   "metadata": {},
   "outputs": [
    {
     "name": "stdout",
     "output_type": "stream",
     "text": [
      "First few rin values: 0    233.45\n",
      "1    232.47\n",
      "2    232.90\n",
      "3    233.03\n",
      "4    229.63\n",
      "Name: 0, dtype: float64\n",
      "First few rout values: 0    151.99\n",
      "1    150.95\n",
      "2    148.26\n",
      "3    107.89\n",
      "4    110.59\n",
      "Name: 0, dtype: float64\n",
      "Original rows: 600\n",
      "Filtered rows retained: 594\n",
      "Rows removed: 6\n"
     ]
    }
   ],
   "source": [
    "import pandas as pd\n",
    "import os\n",
    "\n",
    "def filter_stream_data(directory):\n",
    "    # File paths\n",
    "    rin_path = os.path.join(directory, 'stream_rates_rin.csv')\n",
    "    rout_path = os.path.join(directory, 'stream_rates_rout.csv')\n",
    "    test_info_path = os.path.join(directory, 'test_info.csv')\n",
    "    \n",
    "    # Use comma separator\n",
    "    rin_df = pd.read_csv(rin_path, header=None, sep=',')\n",
    "    rout_df = pd.read_csv(rout_path, header=None, sep=',')\n",
    "    test_info_df = pd.read_csv(test_info_path, header=None, delim_whitespace=True)\n",
    "\n",
    "    # Print head for debugging\n",
    "    print(\"First few rin values:\", rin_df[0].head())\n",
    "    print(\"First few rout values:\", rout_df[0].head())\n",
    "\n",
    "    # Convert to numeric just in case\n",
    "    rin_df[0] = pd.to_numeric(rin_df[0], errors='coerce')\n",
    "    rout_df[0] = pd.to_numeric(rout_df[0], errors='coerce')\n",
    "\n",
    "    # Valid filter\n",
    "    valid_rows = (rin_df[0] <= 500) & (rout_df[0] <= 500)\n",
    "    valid_rows = valid_rows & (~rin_df[0].isna()) & (~rout_df[0].isna())\n",
    "\n",
    "    # Apply filter\n",
    "    filtered_rin = rin_df[valid_rows].reset_index(drop=True)\n",
    "    filtered_rout = rout_df[valid_rows].reset_index(drop=True)\n",
    "    filtered_test_info = test_info_df[valid_rows].reset_index(drop=True)\n",
    "\n",
    "    # Save outputs\n",
    "    filtered_rin.to_csv(os.path.join(directory, 'filtered_stream_rates_rin.csv'), index=False, header=False)\n",
    "    filtered_rout.to_csv(os.path.join(directory, 'filtered_stream_rates_rout.csv'), index=False, header=False)\n",
    "    filtered_test_info.to_csv(os.path.join(directory, 'filtered_test_info.csv'), index=False, header=False)\n",
    "\n",
    "    # Report\n",
    "    print(f\"Original rows: {len(rin_df)}\")\n",
    "    print(f\"Filtered rows retained: {len(filtered_rin)}\")\n",
    "    print(f\"Rows removed: {len(rin_df) - len(filtered_rin)}\")\n",
    "\n",
    "# Run it\n",
    "filter_stream_data('Data_D3/')\n"
   ]
  },
  {
   "cell_type": "code",
   "execution_count": 25,
   "id": "0d25ff21",
   "metadata": {},
   "outputs": [
    {
     "name": "stdout",
     "output_type": "stream",
     "text": [
      "Data has been split and saved to 'split_output.csv'.\n"
     ]
    }
   ],
   "source": [
    "import pandas as pd\n",
    "\n",
    "def split_column_in_csv(file_path):\n",
    "    # Read the CSV file\n",
    "    df = pd.read_csv(file_path, header=None)\n",
    "\n",
    "    # Split the single column into two columns\n",
    "    # Assuming the column with comma-separated values is the first column (index 0)\n",
    "    df[[0, 1]] = df[0].str.split(',', expand=True)\n",
    "\n",
    "    # Save the result to a new CSV file\n",
    "    df.to_csv('Data_D1/filtered_test_info.csv', index=False, header=False)\n",
    "\n",
    "    print(\"Data has been split and saved to 'split_output.csv'.\")\n",
    "\n",
    "# Provide the path to your CSV file\n",
    "split_column_in_csv('Data_D1/filtered_test_info.csv')\n"
   ]
  },
  {
   "cell_type": "code",
   "execution_count": null,
   "id": "f2838ffd",
   "metadata": {},
   "outputs": [],
   "source": []
  }
 ],
 "metadata": {
  "kernelspec": {
   "display_name": "Python 3 (ipykernel)",
   "language": "python",
   "name": "python3"
  },
  "language_info": {
   "codemirror_mode": {
    "name": "ipython",
    "version": 3
   },
   "file_extension": ".py",
   "mimetype": "text/x-python",
   "name": "python",
   "nbconvert_exporter": "python",
   "pygments_lexer": "ipython3",
   "version": "3.11.7"
  }
 },
 "nbformat": 4,
 "nbformat_minor": 5
}
