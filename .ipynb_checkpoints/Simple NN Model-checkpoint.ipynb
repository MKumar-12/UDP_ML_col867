{
 "cells": [
  {
   "cell_type": "code",
   "execution_count": 1,
   "id": "11033920",
   "metadata": {},
   "outputs": [],
   "source": [
    "import pandas as pd\n",
    "import numpy as np\n",
    "import matplotlib.pyplot as plt\n",
    "from sklearn.model_selection import train_test_split\n",
    "from sklearn.preprocessing import MinMaxScaler\n",
    "import tensorflow as tf\n",
    "from tensorflow import keras\n",
    "from tensorflow.keras import layers"
   ]
  },
  {
   "cell_type": "markdown",
   "id": "7b74dc55",
   "metadata": {},
   "source": [
    "# Load and Prepare Data"
   ]
  },
  {
   "cell_type": "code",
   "execution_count": 2,
   "id": "9050c158",
   "metadata": {},
   "outputs": [
    {
     "data": {
      "image/png": "[encoded data removed]",
      "text/plain": [
       "<Figure size 640x480 with 1 Axes>"
      ]
     },
     "metadata": {},
     "output_type": "display_data"
    }
   ],
   "source": [
    "gin_gout_file = \"Data/gin_gout_ratio.csv\"  \n",
    "df_features = pd.read_csv(gin_gout_file)\n",
    "\n",
    "\n",
    "test_info_file = \"Data/test_info.csv\"  \n",
    "df_labels = pd.read_csv(test_info_file)\n",
    "\n",
    "# Extract Capacity (C) and Cross Traffic\n",
    "C_values = df_labels.iloc[:, 0].values  # First column = Capacity (C)\n",
    "cross_traffic_values = df_labels.iloc[:, 1].values  # Second column = Cross Traffic\n",
    "\n",
    "# Compute Available Bandwidth (A = C - Cross Traffic)\n",
    "A_values = C_values - cross_traffic_values\n",
    "\n",
    "# Combine A and C as labels\n",
    "y = np.column_stack((A_values, C_values))  # Shape: (num_samples, 2)\n",
    "\n",
    "# Convert gin/gout ratio DataFrame to NumPy array\n",
    "X = df_features.values  # Shape: (num_samples, num_features)\n",
    "\n",
    "# Check dataset alignment\n",
    "if len(X) != len(y):\n",
    "    raise ValueError(f\"Mismatch: gin_gout_ratio.csv has {len(X)} rows, test_info.csv has {len(y)} labels.\")\n",
    "\n",
    "# Normalize A and C values using MinMaxScaler\n",
    "scaler = MinMaxScaler()\n",
    "y_scaled = scaler.fit_transform(y)  # Scale (A, C) values between 0 and 1\n",
    "\n",
    "# Split into training (80%) and testing (20%) sets\n",
    "X_train, X_test, y_train, y_test = train_test_split(X, y_scaled, test_size=0.2, random_state=42)\n",
    "\n",
    "# Plot data distribution to check if gin/gout ratios have useful variations\n",
    "plt.hist(X.flatten(), bins=50)\n",
    "plt.title(\"Distribution of gin/gout ratios\")\n",
    "plt.show()"
   ]
  },
  {
   "cell_type": "markdown",
   "id": "9edf33e5",
   "metadata": {},
   "source": [
    "# Build The Model"
   ]
  },
  {
   "cell_type": "code",
   "execution_count": 3,
   "id": "2f6fca64",
   "metadata": {},
   "outputs": [
    {
     "data": {
      "text/html": [
       "<pre style=\"white-space:pre;overflow-x:auto;line-height:normal;font-family:Menlo,'DejaVu Sans Mono',consolas,'Courier New',monospace\"><span style=\"font-weight: bold\">Model: \"sequential\"</span>\n",
       "</pre>\n"
      ],
      "text/plain": [
       "\u001b[1mModel: \"sequential\"\u001b[0m\n"
      ]
     },
     "metadata": {},
     "output_type": "display_data"
    },
    {
     "data": {
      "text/html": [
       "<pre style=\"white-space:pre;overflow-x:auto;line-height:normal;font-family:Menlo,'DejaVu Sans Mono',consolas,'Courier New',monospace\">┏━━━━━━━━━━━━━━━━━━━━━━━━━━━━━━━━━━━━━━┳━━━━━━━━━━━━━━━━━━━━━━━━━━━━━┳━━━━━━━━━━━━━━━━━┓\n",
       "┃<span style=\"font-weight: bold\"> Layer (type)                         </span>┃<span style=\"font-weight: bold\"> Output Shape                </span>┃<span style=\"font-weight: bold\">         Param # </span>┃\n",
       "┡━━━━━━━━━━━━━━━━━━━━━━━━━━━━━━━━━━━━━━╇━━━━━━━━━━━━━━━━━━━━━━━━━━━━━╇━━━━━━━━━━━━━━━━━┩\n",
       "│ dense (<span style=\"color: #0087ff; text-decoration-color: #0087ff\">Dense</span>)                        │ (<span style=\"color: #00d7ff; text-decoration-color: #00d7ff\">None</span>, <span style=\"color: #00af00; text-decoration-color: #00af00\">40</span>)                  │             <span style=\"color: #00af00; text-decoration-color: #00af00\">880</span> │\n",
       "├──────────────────────────────────────┼─────────────────────────────┼─────────────────┤\n",
       "│ dense_1 (<span style=\"color: #0087ff; text-decoration-color: #0087ff\">Dense</span>)                      │ (<span style=\"color: #00d7ff; text-decoration-color: #00d7ff\">None</span>, <span style=\"color: #00af00; text-decoration-color: #00af00\">2</span>)                   │              <span style=\"color: #00af00; text-decoration-color: #00af00\">82</span> │\n",
       "└──────────────────────────────────────┴─────────────────────────────┴─────────────────┘\n",
       "</pre>\n"
      ],
      "text/plain": [
       "┏━━━━━━━━━━━━━━━━━━━━━━━━━━━━━━━━━━━━━━┳━━━━━━━━━━━━━━━━━━━━━━━━━━━━━┳━━━━━━━━━━━━━━━━━┓\n",
       "┃\u001b[1m \u001b[0m\u001b[1mLayer (type)                        \u001b[0m\u001b[1m \u001b[0m┃\u001b[1m \u001b[0m\u001b[1mOutput Shape               \u001b[0m\u001b[1m \u001b[0m┃\u001b[1m \u001b[0m\u001b[1m        Param #\u001b[0m\u001b[1m \u001b[0m┃\n",
       "┡━━━━━━━━━━━━━━━━━━━━━━━━━━━━━━━━━━━━━━╇━━━━━━━━━━━━━━━━━━━━━━━━━━━━━╇━━━━━━━━━━━━━━━━━┩\n",
       "│ dense (\u001b[38;5;33mDense\u001b[0m)                        │ (\u001b[38;5;45mNone\u001b[0m, \u001b[38;5;34m40\u001b[0m)                  │             \u001b[38;5;34m880\u001b[0m │\n",
       "├──────────────────────────────────────┼─────────────────────────────┼─────────────────┤\n",
       "│ dense_1 (\u001b[38;5;33mDense\u001b[0m)                      │ (\u001b[38;5;45mNone\u001b[0m, \u001b[38;5;34m2\u001b[0m)                   │              \u001b[38;5;34m82\u001b[0m │\n",
       "└──────────────────────────────────────┴─────────────────────────────┴─────────────────┘\n"
      ]
     },
     "metadata": {},
     "output_type": "display_data"
    },
    {
     "data": {
      "text/html": [
       "<pre style=\"white-space:pre;overflow-x:auto;line-height:normal;font-family:Menlo,'DejaVu Sans Mono',consolas,'Courier New',monospace\"><span style=\"font-weight: bold\"> Total params: </span><span style=\"color: #00af00; text-decoration-color: #00af00\">962</span> (3.76 KB)\n",
       "</pre>\n"
      ],
      "text/plain": [
       "\u001b[1m Total params: \u001b[0m\u001b[38;5;34m962\u001b[0m (3.76 KB)\n"
      ]
     },
     "metadata": {},
     "output_type": "display_data"
    },
    {
     "data": {
      "text/html": [
       "<pre style=\"white-space:pre;overflow-x:auto;line-height:normal;font-family:Menlo,'DejaVu Sans Mono',consolas,'Courier New',monospace\"><span style=\"font-weight: bold\"> Trainable params: </span><span style=\"color: #00af00; text-decoration-color: #00af00\">962</span> (3.76 KB)\n",
       "</pre>\n"
      ],
      "text/plain": [
       "\u001b[1m Trainable params: \u001b[0m\u001b[38;5;34m962\u001b[0m (3.76 KB)\n"
      ]
     },
     "metadata": {},
     "output_type": "display_data"
    },
    {
     "data": {
      "text/html": [
       "<pre style=\"white-space:pre;overflow-x:auto;line-height:normal;font-family:Menlo,'DejaVu Sans Mono',consolas,'Courier New',monospace\"><span style=\"font-weight: bold\"> Non-trainable params: </span><span style=\"color: #00af00; text-decoration-color: #00af00\">0</span> (0.00 B)\n",
       "</pre>\n"
      ],
      "text/plain": [
       "\u001b[1m Non-trainable params: \u001b[0m\u001b[38;5;34m0\u001b[0m (0.00 B)\n"
      ]
     },
     "metadata": {},
     "output_type": "display_data"
    },
    {
     "name": "stdout",
     "output_type": "stream",
     "text": [
      "Epoch 1/50\n",
      "\u001b[1m13/13\u001b[0m \u001b[32m━━━━━━━━━━━━━━━━━━━━\u001b[0m\u001b[37m\u001b[0m \u001b[1m1s\u001b[0m 12ms/step - loss: 0.5137 - mae: 0.5918 - val_loss: 0.2272 - val_mae: 0.3775\n",
      "Epoch 2/50\n",
      "\u001b[1m13/13\u001b[0m \u001b[32m━━━━━━━━━━━━━━━━━━━━\u001b[0m\u001b[37m\u001b[0m \u001b[1m0s\u001b[0m 3ms/step - loss: 0.2131 - mae: 0.3609 - val_loss: 0.1819 - val_mae: 0.3772\n",
      "Epoch 3/50\n",
      "\u001b[1m13/13\u001b[0m \u001b[32m━━━━━━━━━━━━━━━━━━━━\u001b[0m\u001b[37m\u001b[0m \u001b[1m0s\u001b[0m 3ms/step - loss: 0.1708 - mae: 0.3713 - val_loss: 0.1768 - val_mae: 0.3856\n",
      "Epoch 4/50\n",
      "\u001b[1m13/13\u001b[0m \u001b[32m━━━━━━━━━━━━━━━━━━━━\u001b[0m\u001b[37m\u001b[0m \u001b[1m0s\u001b[0m 3ms/step - loss: 0.1657 - mae: 0.3693 - val_loss: 0.1728 - val_mae: 0.3703\n",
      "Epoch 5/50\n",
      "\u001b[1m13/13\u001b[0m \u001b[32m━━━━━━━━━━━━━━━━━━━━\u001b[0m\u001b[37m\u001b[0m \u001b[1m0s\u001b[0m 3ms/step - loss: 0.1619 - mae: 0.3588 - val_loss: 0.1685 - val_mae: 0.3652\n",
      "Epoch 6/50\n",
      "\u001b[1m13/13\u001b[0m \u001b[32m━━━━━━━━━━━━━━━━━━━━\u001b[0m\u001b[37m\u001b[0m \u001b[1m0s\u001b[0m 3ms/step - loss: 0.1607 - mae: 0.3582 - val_loss: 0.1660 - val_mae: 0.3633\n",
      "Epoch 7/50\n",
      "\u001b[1m13/13\u001b[0m \u001b[32m━━━━━━━━━━━━━━━━━━━━\u001b[0m\u001b[37m\u001b[0m \u001b[1m0s\u001b[0m 3ms/step - loss: 0.1515 - mae: 0.3433 - val_loss: 0.1652 - val_mae: 0.3592\n",
      "Epoch 8/50\n",
      "\u001b[1m13/13\u001b[0m \u001b[32m━━━━━━━━━━━━━━━━━━━━\u001b[0m\u001b[37m\u001b[0m \u001b[1m0s\u001b[0m 3ms/step - loss: 0.1553 - mae: 0.3475 - val_loss: 0.1616 - val_mae: 0.3549\n",
      "Epoch 9/50\n",
      "\u001b[1m13/13\u001b[0m \u001b[32m━━━━━━━━━━━━━━━━━━━━\u001b[0m\u001b[37m\u001b[0m \u001b[1m0s\u001b[0m 3ms/step - loss: 0.1495 - mae: 0.3396 - val_loss: 0.1588 - val_mae: 0.3484\n",
      "Epoch 10/50\n",
      "\u001b[1m13/13\u001b[0m \u001b[32m━━━━━━━━━━━━━━━━━━━━\u001b[0m\u001b[37m\u001b[0m \u001b[1m0s\u001b[0m 3ms/step - loss: 0.1439 - mae: 0.3350 - val_loss: 0.1561 - val_mae: 0.3468\n",
      "Epoch 11/50\n",
      "\u001b[1m13/13\u001b[0m \u001b[32m━━━━━━━━━━━━━━━━━━━━\u001b[0m\u001b[37m\u001b[0m \u001b[1m0s\u001b[0m 3ms/step - loss: 0.1417 - mae: 0.3310 - val_loss: 0.1663 - val_mae: 0.3422\n",
      "Epoch 12/50\n",
      "\u001b[1m13/13\u001b[0m \u001b[32m━━━━━━━━━━━━━━━━━━━━\u001b[0m\u001b[37m\u001b[0m \u001b[1m0s\u001b[0m 3ms/step - loss: 0.1512 - mae: 0.3316 - val_loss: 0.1532 - val_mae: 0.3413\n",
      "Epoch 13/50\n",
      "\u001b[1m13/13\u001b[0m \u001b[32m━━━━━━━━━━━━━━━━━━━━\u001b[0m\u001b[37m\u001b[0m \u001b[1m0s\u001b[0m 3ms/step - loss: 0.1356 - mae: 0.3179 - val_loss: 0.1505 - val_mae: 0.3388\n",
      "Epoch 14/50\n",
      "\u001b[1m13/13\u001b[0m \u001b[32m━━━━━━━━━━━━━━━━━━━━\u001b[0m\u001b[37m\u001b[0m \u001b[1m0s\u001b[0m 3ms/step - loss: 0.1317 - mae: 0.3170 - val_loss: 0.1491 - val_mae: 0.3371\n",
      "Epoch 15/50\n",
      "\u001b[1m13/13\u001b[0m \u001b[32m━━━━━━━━━━━━━━━━━━━━\u001b[0m\u001b[37m\u001b[0m \u001b[1m0s\u001b[0m 3ms/step - loss: 0.1323 - mae: 0.3188 - val_loss: 0.1467 - val_mae: 0.3302\n",
      "Epoch 16/50\n",
      "\u001b[1m13/13\u001b[0m \u001b[32m━━━━━━━━━━━━━━━━━━━━\u001b[0m\u001b[37m\u001b[0m \u001b[1m0s\u001b[0m 3ms/step - loss: 0.1264 - mae: 0.3086 - val_loss: 0.1448 - val_mae: 0.3282\n",
      "Epoch 17/50\n",
      "\u001b[1m13/13\u001b[0m \u001b[32m━━━━━━━━━━━━━━━━━━━━\u001b[0m\u001b[37m\u001b[0m \u001b[1m0s\u001b[0m 3ms/step - loss: 0.1261 - mae: 0.3073 - val_loss: 0.1433 - val_mae: 0.3262\n",
      "Epoch 18/50\n",
      "\u001b[1m13/13\u001b[0m \u001b[32m━━━━━━━━━━━━━━━━━━━━\u001b[0m\u001b[37m\u001b[0m \u001b[1m0s\u001b[0m 3ms/step - loss: 0.1213 - mae: 0.3024 - val_loss: 0.1423 - val_mae: 0.3196\n",
      "Epoch 19/50\n",
      "\u001b[1m13/13\u001b[0m \u001b[32m━━━━━━━━━━━━━━━━━━━━\u001b[0m\u001b[37m\u001b[0m \u001b[1m0s\u001b[0m 3ms/step - loss: 0.1233 - mae: 0.3024 - val_loss: 0.1406 - val_mae: 0.3168\n",
      "Epoch 20/50\n",
      "\u001b[1m13/13\u001b[0m \u001b[32m━━━━━━━━━━━━━━━━━━━━\u001b[0m\u001b[37m\u001b[0m \u001b[1m0s\u001b[0m 3ms/step - loss: 0.1273 - mae: 0.3039 - val_loss: 0.1380 - val_mae: 0.3190\n",
      "Epoch 21/50\n",
      "\u001b[1m13/13\u001b[0m \u001b[32m━━━━━━━━━━━━━━━━━━━━\u001b[0m\u001b[37m\u001b[0m \u001b[1m0s\u001b[0m 3ms/step - loss: 0.1251 - mae: 0.3044 - val_loss: 0.1476 - val_mae: 0.3123\n",
      "Epoch 22/50\n",
      "\u001b[1m13/13\u001b[0m \u001b[32m━━━━━━━━━━━━━━━━━━━━\u001b[0m\u001b[37m\u001b[0m \u001b[1m0s\u001b[0m 3ms/step - loss: 0.1264 - mae: 0.3029 - val_loss: 0.1395 - val_mae: 0.3086\n",
      "Epoch 23/50\n",
      "\u001b[1m13/13\u001b[0m \u001b[32m━━━━━━━━━━━━━━━━━━━━\u001b[0m\u001b[37m\u001b[0m \u001b[1m0s\u001b[0m 3ms/step - loss: 0.1323 - mae: 0.3010 - val_loss: 0.1354 - val_mae: 0.3076\n",
      "Epoch 24/50\n",
      "\u001b[1m13/13\u001b[0m \u001b[32m━━━━━━━━━━━━━━━━━━━━\u001b[0m\u001b[37m\u001b[0m \u001b[1m0s\u001b[0m 3ms/step - loss: 0.1204 - mae: 0.2875 - val_loss: 0.1329 - val_mae: 0.3016\n",
      "Epoch 25/50\n",
      "\u001b[1m13/13\u001b[0m \u001b[32m━━━━━━━━━━━━━━━━━━━━\u001b[0m\u001b[37m\u001b[0m \u001b[1m0s\u001b[0m 3ms/step - loss: 0.1115 - mae: 0.2738 - val_loss: 0.1335 - val_mae: 0.3089\n",
      "Epoch 26/50\n",
      "\u001b[1m13/13\u001b[0m \u001b[32m━━━━━━━━━━━━━━━━━━━━\u001b[0m\u001b[37m\u001b[0m \u001b[1m0s\u001b[0m 3ms/step - loss: 0.1144 - mae: 0.2918 - val_loss: 0.1312 - val_mae: 0.2960\n",
      "Epoch 27/50\n",
      "\u001b[1m13/13\u001b[0m \u001b[32m━━━━━━━━━━━━━━━━━━━━\u001b[0m\u001b[37m\u001b[0m \u001b[1m0s\u001b[0m 3ms/step - loss: 0.1117 - mae: 0.2757 - val_loss: 0.1287 - val_mae: 0.2980\n",
      "Epoch 28/50\n",
      "\u001b[1m13/13\u001b[0m \u001b[32m━━━━━━━━━━━━━━━━━━━━\u001b[0m\u001b[37m\u001b[0m \u001b[1m0s\u001b[0m 3ms/step - loss: 0.1128 - mae: 0.2741 - val_loss: 0.1390 - val_mae: 0.3086\n",
      "Epoch 29/50\n",
      "\u001b[1m13/13\u001b[0m \u001b[32m━━━━━━━━━━━━━━━━━━━━\u001b[0m\u001b[37m\u001b[0m \u001b[1m0s\u001b[0m 3ms/step - loss: 0.1113 - mae: 0.2796 - val_loss: 0.1284 - val_mae: 0.2923\n",
      "Epoch 30/50\n",
      "\u001b[1m13/13\u001b[0m \u001b[32m━━━━━━━━━━━━━━━━━━━━\u001b[0m\u001b[37m\u001b[0m \u001b[1m0s\u001b[0m 3ms/step - loss: 0.1055 - mae: 0.2693 - val_loss: 0.1258 - val_mae: 0.2863\n",
      "Epoch 31/50\n",
      "\u001b[1m13/13\u001b[0m \u001b[32m━━━━━━━━━━━━━━━━━━━━\u001b[0m\u001b[37m\u001b[0m \u001b[1m0s\u001b[0m 3ms/step - loss: 0.1051 - mae: 0.2669 - val_loss: 0.1249 - val_mae: 0.2839\n",
      "Epoch 32/50\n",
      "\u001b[1m13/13\u001b[0m \u001b[32m━━━━━━━━━━━━━━━━━━━━\u001b[0m\u001b[37m\u001b[0m \u001b[1m0s\u001b[0m 4ms/step - loss: 0.1049 - mae: 0.2644 - val_loss: 0.1256 - val_mae: 0.2902\n",
      "Epoch 33/50\n",
      "\u001b[1m13/13\u001b[0m \u001b[32m━━━━━━━━━━━━━━━━━━━━\u001b[0m\u001b[37m\u001b[0m \u001b[1m0s\u001b[0m 3ms/step - loss: 0.1092 - mae: 0.2711 - val_loss: 0.1301 - val_mae: 0.2927\n",
      "Epoch 34/50\n",
      "\u001b[1m13/13\u001b[0m \u001b[32m━━━━━━━━━━━━━━━━━━━━\u001b[0m\u001b[37m\u001b[0m \u001b[1m0s\u001b[0m 3ms/step - loss: 0.1068 - mae: 0.2693 - val_loss: 0.1221 - val_mae: 0.2835\n",
      "Epoch 35/50\n",
      "\u001b[1m13/13\u001b[0m \u001b[32m━━━━━━━━━━━━━━━━━━━━\u001b[0m\u001b[37m\u001b[0m \u001b[1m0s\u001b[0m 3ms/step - loss: 0.1056 - mae: 0.2697 - val_loss: 0.1214 - val_mae: 0.2769\n",
      "Epoch 36/50\n",
      "\u001b[1m13/13\u001b[0m \u001b[32m━━━━━━━━━━━━━━━━━━━━\u001b[0m\u001b[37m\u001b[0m \u001b[1m0s\u001b[0m 3ms/step - loss: 0.1011 - mae: 0.2577 - val_loss: 0.1224 - val_mae: 0.2788\n",
      "Epoch 37/50\n",
      "\u001b[1m13/13\u001b[0m \u001b[32m━━━━━━━━━━━━━━━━━━━━\u001b[0m\u001b[37m\u001b[0m \u001b[1m0s\u001b[0m 3ms/step - loss: 0.1056 - mae: 0.2606 - val_loss: 0.1288 - val_mae: 0.2854\n",
      "Epoch 38/50\n",
      "\u001b[1m13/13\u001b[0m \u001b[32m━━━━━━━━━━━━━━━━━━━━\u001b[0m\u001b[37m\u001b[0m \u001b[1m0s\u001b[0m 3ms/step - loss: 0.1041 - mae: 0.2631 - val_loss: 0.1185 - val_mae: 0.2730\n",
      "Epoch 39/50\n",
      "\u001b[1m13/13\u001b[0m \u001b[32m━━━━━━━━━━━━━━━━━━━━\u001b[0m\u001b[37m\u001b[0m \u001b[1m0s\u001b[0m 3ms/step - loss: 0.1052 - mae: 0.2649 - val_loss: 0.1237 - val_mae: 0.2734\n",
      "Epoch 40/50\n",
      "\u001b[1m13/13\u001b[0m \u001b[32m━━━━━━━━━━━━━━━━━━━━\u001b[0m\u001b[37m\u001b[0m \u001b[1m0s\u001b[0m 3ms/step - loss: 0.1140 - mae: 0.2690 - val_loss: 0.1193 - val_mae: 0.2713\n",
      "Epoch 41/50\n",
      "\u001b[1m13/13\u001b[0m \u001b[32m━━━━━━━━━━━━━━━━━━━━\u001b[0m\u001b[37m\u001b[0m \u001b[1m0s\u001b[0m 3ms/step - loss: 0.1044 - mae: 0.2602 - val_loss: 0.1417 - val_mae: 0.2841\n",
      "Epoch 42/50\n",
      "\u001b[1m13/13\u001b[0m \u001b[32m━━━━━━━━━━━━━━━━━━━━\u001b[0m\u001b[37m\u001b[0m \u001b[1m0s\u001b[0m 3ms/step - loss: 0.1233 - mae: 0.2754 - val_loss: 0.1195 - val_mae: 0.2712\n",
      "Epoch 43/50\n",
      "\u001b[1m13/13\u001b[0m \u001b[32m━━━━━━━━━━━━━━━━━━━━\u001b[0m\u001b[37m\u001b[0m \u001b[1m0s\u001b[0m 3ms/step - loss: 0.0970 - mae: 0.2504 - val_loss: 0.1177 - val_mae: 0.2702\n",
      "Epoch 44/50\n",
      "\u001b[1m13/13\u001b[0m \u001b[32m━━━━━━━━━━━━━━━━━━━━\u001b[0m\u001b[37m\u001b[0m \u001b[1m0s\u001b[0m 3ms/step - loss: 0.0980 - mae: 0.2548 - val_loss: 0.1175 - val_mae: 0.2664\n",
      "Epoch 45/50\n",
      "\u001b[1m13/13\u001b[0m \u001b[32m━━━━━━━━━━━━━━━━━━━━\u001b[0m\u001b[37m\u001b[0m \u001b[1m0s\u001b[0m 3ms/step - loss: 0.0988 - mae: 0.2500 - val_loss: 0.1159 - val_mae: 0.2660\n",
      "Epoch 46/50\n",
      "\u001b[1m13/13\u001b[0m \u001b[32m━━━━━━━━━━━━━━━━━━━━\u001b[0m\u001b[37m\u001b[0m \u001b[1m0s\u001b[0m 3ms/step - loss: 0.0937 - mae: 0.2461 - val_loss: 0.1168 - val_mae: 0.2670\n",
      "Epoch 47/50\n",
      "\u001b[1m13/13\u001b[0m \u001b[32m━━━━━━━━━━━━━━━━━━━━\u001b[0m\u001b[37m\u001b[0m \u001b[1m0s\u001b[0m 3ms/step - loss: 0.0973 - mae: 0.2515 - val_loss: 0.1157 - val_mae: 0.2659\n",
      "Epoch 48/50\n",
      "\u001b[1m13/13\u001b[0m \u001b[32m━━━━━━━━━━━━━━━━━━━━\u001b[0m\u001b[37m\u001b[0m \u001b[1m0s\u001b[0m 3ms/step - loss: 0.1008 - mae: 0.2573 - val_loss: 0.1145 - val_mae: 0.2636\n",
      "Epoch 49/50\n",
      "\u001b[1m13/13\u001b[0m \u001b[32m━━━━━━━━━━━━━━━━━━━━\u001b[0m\u001b[37m\u001b[0m \u001b[1m0s\u001b[0m 3ms/step - loss: 0.1010 - mae: 0.2556 - val_loss: 0.1205 - val_mae: 0.2694\n",
      "Epoch 50/50\n",
      "\u001b[1m13/13\u001b[0m \u001b[32m━━━━━━━━━━━━━━━━━━━━\u001b[0m\u001b[37m\u001b[0m \u001b[1m0s\u001b[0m 3ms/step - loss: 0.1080 - mae: 0.2627 - val_loss: 0.1142 - val_mae: 0.2619\n"
     ]
    },
    {
     "data": {
      "text/plain": [
       "<keras.src.callbacks.history.History at 0x26e94097bd0>"
      ]
     },
     "execution_count": 3,
     "metadata": {},
     "output_type": "execute_result"
    }
   ],
   "source": [
    "# Define the model (same as your `build_bandwidth_estimator`)\n",
    "def build_bandwidth_estimator(k=25):\n",
    "    model = keras.Sequential([\n",
    "        layers.Input(shape=(k,)),  # Input layer (expects 20 features)\n",
    "        layers.Dense(40, activation='relu'),  # Hidden layer with 40 neurons\n",
    "        layers.Dense(2, activation='linear')  # Output layer (predicts A and C)\n",
    "    ])\n",
    "    \n",
    "    model.compile(optimizer='adam', loss='mse', metrics=['mae'])\n",
    "    return model\n",
    "\n",
    "# Ensure input dimension matches model expectation\n",
    "k = X_train.shape[1]\n",
    "model = build_bandwidth_estimator(k)\n",
    "model.summary()\n",
    "\n",
    "# Train the model\n",
    "model.fit(X_train, y_train, epochs=50, batch_size=32, validation_split=0.2)\n"
   ]
  },
  {
   "cell_type": "code",
   "execution_count": 4,
   "id": "16e5a674",
   "metadata": {},
   "outputs": [
    {
     "name": "stdout",
     "output_type": "stream",
     "text": [
      "\u001b[1m4/4\u001b[0m \u001b[32m━━━━━━━━━━━━━━━━━━━━\u001b[0m\u001b[37m\u001b[0m \u001b[1m0s\u001b[0m 2ms/step - loss: 0.1189 - mae: 0.2736 \n",
      "Test Loss: 0.10668281465768814, Test MAE: 0.2569030225276947\n",
      "\u001b[1m4/4\u001b[0m \u001b[32m━━━━━━━━━━━━━━━━━━━━\u001b[0m\u001b[37m\u001b[0m \u001b[1m0s\u001b[0m 7ms/step \n",
      "Predicted A and C values:\n",
      " [[0.1916506  0.6958857 ]\n",
      " [0.20499557 0.56539416]\n",
      " [0.32168838 0.64655626]\n",
      " [0.5575617  0.6000273 ]\n",
      " [0.41628176 0.5388616 ]\n",
      " [0.29375526 0.793076  ]\n",
      " [0.3338592  0.23849092]\n",
      " [0.58655405 1.0672654 ]\n",
      " [0.16603068 0.6614    ]\n",
      " [0.58449006 0.7680151 ]\n",
      " [0.37475058 0.33001423]\n",
      " [0.57966536 0.7440935 ]\n",
      " [0.5432855  0.5971467 ]\n",
      " [0.5552328  0.4926591 ]\n",
      " [0.4548751  0.15577058]\n",
      " [0.63402915 0.7480577 ]\n",
      " [0.25239527 0.75904113]\n",
      " [0.31885183 0.94237465]\n",
      " [0.46001032 0.45173937]\n",
      " [0.19775778 0.7377104 ]\n",
      " [0.34192008 0.1698422 ]\n",
      " [0.75408465 1.132964  ]\n",
      " [0.5096777  0.30200064]\n",
      " [0.1310603  0.3471871 ]\n",
      " [0.12411408 0.45748645]\n",
      " [0.61345965 0.6666753 ]\n",
      " [0.35050517 0.19769944]\n",
      " [0.39391235 0.17830326]\n",
      " [0.15883403 0.49498612]\n",
      " [0.11883378 0.48740554]\n",
      " [0.36014786 0.10572906]\n",
      " [0.18153192 0.29081655]\n",
      " [0.22696693 0.62432814]\n",
      " [0.18345667 0.7257986 ]\n",
      " [0.5627126  0.5055897 ]\n",
      " [0.39521292 0.15051253]\n",
      " [0.24004862 0.17542668]\n",
      " [0.1034503  0.40449995]\n",
      " [0.33785376 0.4723729 ]\n",
      " [0.32929644 0.85083324]\n",
      " [0.43347418 0.34415472]\n",
      " [0.98115706 0.8772374 ]\n",
      " [1.0541687  1.314221  ]\n",
      " [0.3872331  0.10457294]\n",
      " [0.24591231 0.87851477]\n",
      " [0.6681453  0.91998845]\n",
      " [0.3150391  0.7947003 ]\n",
      " [0.11759464 0.43270522]\n",
      " [0.8278379  1.0218024 ]\n",
      " [0.3194044  0.23745413]\n",
      " [0.49511454 0.5224522 ]\n",
      " [0.24994624 0.7845989 ]\n",
      " [0.40195116 0.24085243]\n",
      " [0.09620856 0.50289935]\n",
      " [0.36844647 0.06194042]\n",
      " [0.38529855 0.42363173]\n",
      " [0.41855213 0.17064305]\n",
      " [0.31977728 0.2691008 ]\n",
      " [0.4110251  0.22859828]\n",
      " [1.0241532  0.8275021 ]\n",
      " [0.11673117 0.32271498]\n",
      " [0.34937423 0.1325007 ]\n",
      " [0.4154428  0.19120498]\n",
      " [0.5485335  0.3130514 ]\n",
      " [0.15122439 0.59018964]\n",
      " [0.3256136  0.19443901]\n",
      " [0.7307499  0.9194353 ]\n",
      " [0.44823414 0.27133393]\n",
      " [0.18039602 0.4862935 ]\n",
      " [0.46706593 0.25165957]\n",
      " [0.37977242 0.34508246]\n",
      " [0.7400756  0.9510966 ]\n",
      " [0.6218934  0.720236  ]\n",
      " [0.41483966 0.18233682]\n",
      " [0.7947497  1.1186929 ]\n",
      " [0.33019537 0.12081961]\n",
      " [0.32046056 0.25105357]\n",
      " [0.755584   0.6418958 ]\n",
      " [0.45487216 0.18491168]\n",
      " [0.45637593 0.18727393]\n",
      " [0.25574616 0.7798824 ]\n",
      " [1.10583    1.7087744 ]\n",
      " [0.17643528 0.43922102]\n",
      " [0.43732333 0.25222445]\n",
      " [0.33105543 0.4388352 ]\n",
      " [0.17012389 0.4536897 ]\n",
      " [0.6259723  0.8147432 ]\n",
      " [0.379647   0.35535425]\n",
      " [0.20048776 0.5990442 ]\n",
      " [0.29093704 0.84947133]\n",
      " [0.40948728 0.2438298 ]\n",
      " [0.38477442 0.13345926]\n",
      " [0.65104765 0.7011742 ]\n",
      " [0.5320109  0.6291297 ]\n",
      " [0.78743494 1.0412766 ]\n",
      " [0.39089245 1.0588821 ]\n",
      " [0.27147257 0.88853186]\n",
      " [0.15093505 0.39255852]\n",
      " [0.11198162 0.35340762]\n",
      " [0.07666001 0.23026247]\n",
      " [0.43220228 0.72261226]\n",
      " [0.4590589  0.27074653]\n",
      " [0.5581701  0.44513154]\n",
      " [0.18983611 0.46867543]\n",
      " [0.19092384 0.44799167]\n",
      " [1.1353489  1.0487674 ]\n",
      " [0.43396363 0.4077351 ]\n",
      " [0.92900383 1.0527595 ]\n",
      " [0.14130458 0.33344448]\n",
      " [0.18115014 0.50130445]\n",
      " [0.38875136 0.7080985 ]\n",
      " [0.0980071  0.4086728 ]\n",
      " [0.6110396  0.6843454 ]\n",
      " [0.35116264 0.17949538]\n",
      " [0.3153848  0.86801744]\n",
      " [0.44397914 0.43885517]\n",
      " [0.12319821 0.44312298]\n",
      " [0.53600585 0.3319165 ]\n",
      " [0.16502807 0.50084376]\n",
      " [0.45690528 0.6285362 ]\n",
      " [0.35468256 0.44359976]\n",
      " [0.16724962 0.3924948 ]\n",
      " [0.46571594 1.032293  ]\n",
      " [0.48487636 0.2636273 ]\n",
      " [0.38298684 0.10236089]\n",
      " [0.49142095 0.28757465]]\n"
     ]
    }
   ],
   "source": [
    "# Evaluate model on test data\n",
    "test_loss, test_mae = model.evaluate(X_test, y_test)\n",
    "print(f\"Test Loss: {test_loss}, Test MAE: {test_mae}\")\n",
    "\n",
    "# Predict Available Bandwidth (A) and Capacity (C)\n",
    "predictions = model.predict(X_test)\n",
    "print(\"Predicted A and C values:\\n\", predictions)\n"
   ]
  },
  {
   "cell_type": "code",
   "execution_count": null,
   "id": "61458aac",
   "metadata": {},
   "outputs": [],
   "source": []
  }
 ],
 "metadata": {
  "kernelspec": {
   "display_name": "Python 3 (ipykernel)",
   "language": "python",
   "name": "python3"
  },
  "language_info": {
   "codemirror_mode": {
    "name": "ipython",
    "version": 3
   },
   "file_extension": ".py",
   "mimetype": "text/x-python",
   "name": "python",
   "nbconvert_exporter": "python",
   "pygments_lexer": "ipython3",
   "version": "3.11.7"
  }
 },
 "nbformat": 4,
 "nbformat_minor": 5
}
