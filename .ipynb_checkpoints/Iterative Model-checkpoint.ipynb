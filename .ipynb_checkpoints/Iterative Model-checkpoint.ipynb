{
 "cells": [
  {
   "cell_type": "code",
   "execution_count": 1,
   "id": "7189a4cb",
   "metadata": {},
   "outputs": [],
   "source": [
    "import tensorflow as tf\n",
    "from tensorflow import keras\n",
    "from tensorflow.keras import layers\n",
    "import numpy as np\n",
    "import pandas as pd\n",
    "from sklearn.model_selection import train_test_split\n",
    "from sklearn.preprocessing import StandardScaler\n",
    "import matplotlib.pyplot as plt\n",
    "from sklearn.preprocessing import MinMaxScaler"
   ]
  },
  {
   "cell_type": "markdown",
   "id": "ebcc206a",
   "metadata": {},
   "source": [
    "# Load and Process Data"
   ]
  },
  {
   "cell_type": "code",
   "execution_count": 2,
   "id": "033ab5d5",
   "metadata": {},
   "outputs": [],
   "source": [
    "# Load gin/gout ratio dataset (features)\n",
    "gin_gout_df = pd.read_csv('Data/gin_gout_ratio.csv', header=None)\n",
    "X = gin_gout_df.values  # Convert to NumPy array\n",
    "\n",
    "# Load A, C values from test_info.csv (labels)\n",
    "test_info_df = pd.read_csv('Data/test_info.csv', header=None)\n",
    "y = test_info_df.values  # A (Available Bandwidth) & C (Capacity)"
   ]
  },
  {
   "cell_type": "markdown",
   "id": "a5bca9b7",
   "metadata": {},
   "source": [
    "# Train Test Split and Transform"
   ]
  },
  {
   "cell_type": "code",
   "execution_count": 3,
   "id": "b08e189f",
   "metadata": {},
   "outputs": [
    {
     "data": {
      "image/png": "[encoded data removed]",
      "text/plain": [
       "<Figure size 640x480 with 1 Axes>"
      ]
     },
     "metadata": {},
     "output_type": "display_data"
    }
   ],
   "source": [
    "gin_gout_file = \"Data/gin_gout_ratio.csv\"  \n",
    "df_features = pd.read_csv(gin_gout_file)\n",
    "\n",
    "\n",
    "test_info_file = \"Data/test_info.csv\"  \n",
    "df_labels = pd.read_csv(test_info_file)\n",
    "\n",
    "# Extract Capacity (C) and Cross Traffic\n",
    "C_values = df_labels.iloc[:, 0].values  # First column = Capacity (C)\n",
    "cross_traffic_values = df_labels.iloc[:, 1].values  # Second column = Cross Traffic\n",
    "\n",
    "# Compute Available Bandwidth (A = C - Cross Traffic)\n",
    "A_values = C_values - cross_traffic_values\n",
    "\n",
    "# Combine A and C as labels\n",
    "y = np.column_stack((A_values, C_values))  # Shape: (num_samples, 2)\n",
    "\n",
    "# Convert gin/gout ratio DataFrame to NumPy array\n",
    "X = df_features.values  # Shape: (num_samples, num_features)\n",
    "\n",
    "# Check dataset alignment\n",
    "if len(X) != len(y):\n",
    "    raise ValueError(f\"Mismatch: gin_gout_ratio.csv has {len(X)} rows, test_info.csv has {len(y)} labels.\")\n",
    "\n",
    "# Normalize A and C values using MinMaxScaler\n",
    "scaler = MinMaxScaler()\n",
    "y_scaled = scaler.fit_transform(y)  # Scale (A, C) values between 0 and 1\n",
    "\n",
    "# Split into training (80%) and testing (20%) sets\n",
    "X_train, X_test, y_train, y_test = train_test_split(X, y_scaled, test_size=0.2, random_state=42)\n",
    "\n",
    "# Plot data distribution to check if gin/gout ratios have useful variations\n",
    "plt.hist(X.flatten(), bins=50)\n",
    "plt.title(\"Distribution of gout/gin ratios\")\n",
    "plt.show()"
   ]
  },
  {
   "cell_type": "markdown",
   "id": "3bf6d9de",
   "metadata": {},
   "source": [
    "# Iterative Model"
   ]
  },
  {
   "cell_type": "code",
   "execution_count": 8,
   "id": "35669eca",
   "metadata": {},
   "outputs": [],
   "source": [
    "def build_iterative_bandwidth_estimator(k=20):\n",
    "    model = keras.Sequential([\n",
    "        layers.Input(shape=(k+2,)),  \n",
    "        layers.Dense(64, activation='relu'),  # Increased neurons\n",
    "        layers.Dense(32, activation='relu'),  # Added hidden layer\n",
    "        layers.Dense(2, activation='linear')  # Output: A and C\n",
    "    ])\n",
    "    \n",
    "    model.compile(optimizer='adam', loss='mse', metrics=['mae'])\n",
    "    return model"
   ]
  },
  {
   "cell_type": "markdown",
   "id": "c111c4de",
   "metadata": {},
   "source": [
    "# Train the Model"
   ]
  },
  {
   "cell_type": "code",
   "execution_count": 9,
   "id": "ec15d24e",
   "metadata": {},
   "outputs": [
    {
     "name": "stdout",
     "output_type": "stream",
     "text": [
      "Epoch 1/50\n",
      "\u001b[1m13/13\u001b[0m \u001b[32m━━━━━━━━━━━━━━━━━━━━\u001b[0m\u001b[37m\u001b[0m \u001b[1m1s\u001b[0m 10ms/step - loss: 0.4764 - mae: 0.5587 - val_loss: 0.2455 - val_mae: 0.4269\n",
      "Epoch 2/50\n",
      "\u001b[1m13/13\u001b[0m \u001b[32m━━━━━━━━━━━━━━━━━━━━\u001b[0m\u001b[37m\u001b[0m \u001b[1m0s\u001b[0m 3ms/step - loss: 0.2405 - mae: 0.4241 - val_loss: 0.1953 - val_mae: 0.3977\n",
      "Epoch 3/50\n",
      "\u001b[1m13/13\u001b[0m \u001b[32m━━━━━━━━━━━━━━━━━━━━\u001b[0m\u001b[37m\u001b[0m \u001b[1m0s\u001b[0m 3ms/step - loss: 0.1957 - mae: 0.3990 - val_loss: 0.1912 - val_mae: 0.3951\n",
      "Epoch 4/50\n",
      "\u001b[1m13/13\u001b[0m \u001b[32m━━━━━━━━━━━━━━━━━━━━\u001b[0m\u001b[37m\u001b[0m \u001b[1m0s\u001b[0m 3ms/step - loss: 0.1871 - mae: 0.3918 - val_loss: 0.1870 - val_mae: 0.3919\n",
      "Epoch 5/50\n",
      "\u001b[1m13/13\u001b[0m \u001b[32m━━━━━━━━━━━━━━━━━━━━\u001b[0m\u001b[37m\u001b[0m \u001b[1m0s\u001b[0m 3ms/step - loss: 0.1870 - mae: 0.3917 - val_loss: 0.1843 - val_mae: 0.3877\n",
      "Epoch 6/50\n",
      "\u001b[1m13/13\u001b[0m \u001b[32m━━━━━━━━━━━━━━━━━━━━\u001b[0m\u001b[37m\u001b[0m \u001b[1m0s\u001b[0m 3ms/step - loss: 0.1786 - mae: 0.3827 - val_loss: 0.1810 - val_mae: 0.3877\n",
      "Epoch 7/50\n",
      "\u001b[1m13/13\u001b[0m \u001b[32m━━━━━━━━━━━━━━━━━━━━\u001b[0m\u001b[37m\u001b[0m \u001b[1m0s\u001b[0m 3ms/step - loss: 0.1827 - mae: 0.3899 - val_loss: 0.1780 - val_mae: 0.3805\n",
      "Epoch 8/50\n",
      "\u001b[1m13/13\u001b[0m \u001b[32m━━━━━━━━━━━━━━━━━━━━\u001b[0m\u001b[37m\u001b[0m \u001b[1m0s\u001b[0m 3ms/step - loss: 0.1744 - mae: 0.3762 - val_loss: 0.1754 - val_mae: 0.3777\n",
      "Epoch 9/50\n",
      "\u001b[1m13/13\u001b[0m \u001b[32m━━━━━━━━━━━━━━━━━━━━\u001b[0m\u001b[37m\u001b[0m \u001b[1m0s\u001b[0m 3ms/step - loss: 0.1703 - mae: 0.3734 - val_loss: 0.1715 - val_mae: 0.3735\n",
      "Epoch 10/50\n",
      "\u001b[1m13/13\u001b[0m \u001b[32m━━━━━━━━━━━━━━━━━━━━\u001b[0m\u001b[37m\u001b[0m \u001b[1m0s\u001b[0m 3ms/step - loss: 0.1700 - mae: 0.3718 - val_loss: 0.1676 - val_mae: 0.3697\n",
      "Epoch 11/50\n",
      "\u001b[1m13/13\u001b[0m \u001b[32m━━━━━━━━━━━━━━━━━━━━\u001b[0m\u001b[37m\u001b[0m \u001b[1m0s\u001b[0m 3ms/step - loss: 0.1634 - mae: 0.3652 - val_loss: 0.1655 - val_mae: 0.3644\n",
      "Epoch 12/50\n",
      "\u001b[1m13/13\u001b[0m \u001b[32m━━━━━━━━━━━━━━━━━━━━\u001b[0m\u001b[37m\u001b[0m \u001b[1m0s\u001b[0m 3ms/step - loss: 0.1581 - mae: 0.3577 - val_loss: 0.1601 - val_mae: 0.3594\n",
      "Epoch 13/50\n",
      "\u001b[1m13/13\u001b[0m \u001b[32m━━━━━━━━━━━━━━━━━━━━\u001b[0m\u001b[37m\u001b[0m \u001b[1m0s\u001b[0m 3ms/step - loss: 0.1584 - mae: 0.3602 - val_loss: 0.1554 - val_mae: 0.3538\n",
      "Epoch 14/50\n",
      "\u001b[1m13/13\u001b[0m \u001b[32m━━━━━━━━━━━━━━━━━━━━\u001b[0m\u001b[37m\u001b[0m \u001b[1m0s\u001b[0m 3ms/step - loss: 0.1495 - mae: 0.3469 - val_loss: 0.1519 - val_mae: 0.3473\n",
      "Epoch 15/50\n",
      "\u001b[1m13/13\u001b[0m \u001b[32m━━━━━━━━━━━━━━━━━━━━\u001b[0m\u001b[37m\u001b[0m \u001b[1m0s\u001b[0m 3ms/step - loss: 0.1474 - mae: 0.3418 - val_loss: 0.1472 - val_mae: 0.3399\n",
      "Epoch 16/50\n",
      "\u001b[1m13/13\u001b[0m \u001b[32m━━━━━━━━━━━━━━━━━━━━\u001b[0m\u001b[37m\u001b[0m \u001b[1m0s\u001b[0m 3ms/step - loss: 0.1398 - mae: 0.3327 - val_loss: 0.1439 - val_mae: 0.3334\n",
      "Epoch 17/50\n",
      "\u001b[1m13/13\u001b[0m \u001b[32m━━━━━━━━━━━━━━━━━━━━\u001b[0m\u001b[37m\u001b[0m \u001b[1m0s\u001b[0m 3ms/step - loss: 0.1406 - mae: 0.3323 - val_loss: 0.1401 - val_mae: 0.3282\n",
      "Epoch 18/50\n",
      "\u001b[1m13/13\u001b[0m \u001b[32m━━━━━━━━━━━━━━━━━━━━\u001b[0m\u001b[37m\u001b[0m \u001b[1m0s\u001b[0m 3ms/step - loss: 0.1309 - mae: 0.3181 - val_loss: 0.1365 - val_mae: 0.3219\n",
      "Epoch 19/50\n",
      "\u001b[1m13/13\u001b[0m \u001b[32m━━━━━━━━━━━━━━━━━━━━\u001b[0m\u001b[37m\u001b[0m \u001b[1m0s\u001b[0m 3ms/step - loss: 0.1269 - mae: 0.3166 - val_loss: 0.1382 - val_mae: 0.3172\n",
      "Epoch 20/50\n",
      "\u001b[1m13/13\u001b[0m \u001b[32m━━━━━━━━━━━━━━━━━━━━\u001b[0m\u001b[37m\u001b[0m \u001b[1m0s\u001b[0m 3ms/step - loss: 0.1277 - mae: 0.3120 - val_loss: 0.1290 - val_mae: 0.3101\n",
      "Epoch 21/50\n",
      "\u001b[1m13/13\u001b[0m \u001b[32m━━━━━━━━━━━━━━━━━━━━\u001b[0m\u001b[37m\u001b[0m \u001b[1m0s\u001b[0m 3ms/step - loss: 0.1220 - mae: 0.3048 - val_loss: 0.1270 - val_mae: 0.3044\n",
      "Epoch 22/50\n",
      "\u001b[1m13/13\u001b[0m \u001b[32m━━━━━━━━━━━━━━━━━━━━\u001b[0m\u001b[37m\u001b[0m \u001b[1m0s\u001b[0m 3ms/step - loss: 0.1251 - mae: 0.3047 - val_loss: 0.1270 - val_mae: 0.3007\n",
      "Epoch 23/50\n",
      "\u001b[1m13/13\u001b[0m \u001b[32m━━━━━━━━━━━━━━━━━━━━\u001b[0m\u001b[37m\u001b[0m \u001b[1m0s\u001b[0m 3ms/step - loss: 0.1140 - mae: 0.2925 - val_loss: 0.1236 - val_mae: 0.2952\n",
      "Epoch 24/50\n",
      "\u001b[1m13/13\u001b[0m \u001b[32m━━━━━━━━━━━━━━━━━━━━\u001b[0m\u001b[37m\u001b[0m \u001b[1m0s\u001b[0m 3ms/step - loss: 0.1185 - mae: 0.2917 - val_loss: 0.1197 - val_mae: 0.2879\n",
      "Epoch 25/50\n",
      "\u001b[1m13/13\u001b[0m \u001b[32m━━━━━━━━━━━━━━━━━━━━\u001b[0m\u001b[37m\u001b[0m \u001b[1m0s\u001b[0m 3ms/step - loss: 0.1074 - mae: 0.2779 - val_loss: 0.1186 - val_mae: 0.2834\n",
      "Epoch 26/50\n",
      "\u001b[1m13/13\u001b[0m \u001b[32m━━━━━━━━━━━━━━━━━━━━\u001b[0m\u001b[37m\u001b[0m \u001b[1m0s\u001b[0m 4ms/step - loss: 0.1099 - mae: 0.2760 - val_loss: 0.1217 - val_mae: 0.2807\n",
      "Epoch 27/50\n",
      "\u001b[1m13/13\u001b[0m \u001b[32m━━━━━━━━━━━━━━━━━━━━\u001b[0m\u001b[37m\u001b[0m \u001b[1m0s\u001b[0m 3ms/step - loss: 0.1125 - mae: 0.2803 - val_loss: 0.1191 - val_mae: 0.2765\n",
      "Epoch 28/50\n",
      "\u001b[1m13/13\u001b[0m \u001b[32m━━━━━━━━━━━━━━━━━━━━\u001b[0m\u001b[37m\u001b[0m \u001b[1m0s\u001b[0m 3ms/step - loss: 0.1064 - mae: 0.2673 - val_loss: 0.1163 - val_mae: 0.2747\n",
      "Epoch 29/50\n",
      "\u001b[1m13/13\u001b[0m \u001b[32m━━━━━━━━━━━━━━━━━━━━\u001b[0m\u001b[37m\u001b[0m \u001b[1m0s\u001b[0m 3ms/step - loss: 0.1104 - mae: 0.2694 - val_loss: 0.1304 - val_mae: 0.3028\n",
      "Epoch 30/50\n",
      "\u001b[1m13/13\u001b[0m \u001b[32m━━━━━━━━━━━━━━━━━━━━\u001b[0m\u001b[37m\u001b[0m \u001b[1m0s\u001b[0m 3ms/step - loss: 0.1177 - mae: 0.2832 - val_loss: 0.1222 - val_mae: 0.2853\n",
      "Epoch 31/50\n",
      "\u001b[1m13/13\u001b[0m \u001b[32m━━━━━━━━━━━━━━━━━━━━\u001b[0m\u001b[37m\u001b[0m \u001b[1m0s\u001b[0m 3ms/step - loss: 0.1141 - mae: 0.2772 - val_loss: 0.1130 - val_mae: 0.2689\n",
      "Epoch 32/50\n",
      "\u001b[1m13/13\u001b[0m \u001b[32m━━━━━━━━━━━━━━━━━━━━\u001b[0m\u001b[37m\u001b[0m \u001b[1m0s\u001b[0m 3ms/step - loss: 0.1072 - mae: 0.2732 - val_loss: 0.1264 - val_mae: 0.2910\n",
      "Epoch 33/50\n",
      "\u001b[1m13/13\u001b[0m \u001b[32m━━━━━━━━━━━━━━━━━━━━\u001b[0m\u001b[37m\u001b[0m \u001b[1m0s\u001b[0m 3ms/step - loss: 0.1161 - mae: 0.2861 - val_loss: 0.1228 - val_mae: 0.2912\n",
      "Epoch 34/50\n",
      "\u001b[1m13/13\u001b[0m \u001b[32m━━━━━━━━━━━━━━━━━━━━\u001b[0m\u001b[37m\u001b[0m \u001b[1m0s\u001b[0m 3ms/step - loss: 0.1036 - mae: 0.2700 - val_loss: 0.1180 - val_mae: 0.2815\n",
      "Epoch 35/50\n",
      "\u001b[1m13/13\u001b[0m \u001b[32m━━━━━━━━━━━━━━━━━━━━\u001b[0m\u001b[37m\u001b[0m \u001b[1m0s\u001b[0m 3ms/step - loss: 0.1200 - mae: 0.2929 - val_loss: 0.1194 - val_mae: 0.2810\n",
      "Epoch 36/50\n",
      "\u001b[1m13/13\u001b[0m \u001b[32m━━━━━━━━━━━━━━━━━━━━\u001b[0m\u001b[37m\u001b[0m \u001b[1m0s\u001b[0m 3ms/step - loss: 0.1015 - mae: 0.2644 - val_loss: 0.1296 - val_mae: 0.2848\n",
      "Epoch 37/50\n",
      "\u001b[1m13/13\u001b[0m \u001b[32m━━━━━━━━━━━━━━━━━━━━\u001b[0m\u001b[37m\u001b[0m \u001b[1m0s\u001b[0m 3ms/step - loss: 0.1067 - mae: 0.2668 - val_loss: 0.1131 - val_mae: 0.2626\n",
      "Epoch 38/50\n",
      "\u001b[1m13/13\u001b[0m \u001b[32m━━━━━━━━━━━━━━━━━━━━\u001b[0m\u001b[37m\u001b[0m \u001b[1m0s\u001b[0m 3ms/step - loss: 0.0979 - mae: 0.2487 - val_loss: 0.1297 - val_mae: 0.2780\n",
      "Epoch 39/50\n",
      "\u001b[1m13/13\u001b[0m \u001b[32m━━━━━━━━━━━━━━━━━━━━\u001b[0m\u001b[37m\u001b[0m \u001b[1m0s\u001b[0m 3ms/step - loss: 0.1079 - mae: 0.2643 - val_loss: 0.1115 - val_mae: 0.2607\n",
      "Epoch 40/50\n",
      "\u001b[1m13/13\u001b[0m \u001b[32m━━━━━━━━━━━━━━━━━━━━\u001b[0m\u001b[37m\u001b[0m \u001b[1m0s\u001b[0m 3ms/step - loss: 0.1027 - mae: 0.2566 - val_loss: 0.1131 - val_mae: 0.2597\n",
      "Epoch 41/50\n",
      "\u001b[1m13/13\u001b[0m \u001b[32m━━━━━━━━━━━━━━━━━━━━\u001b[0m\u001b[37m\u001b[0m \u001b[1m0s\u001b[0m 3ms/step - loss: 0.0964 - mae: 0.2502 - val_loss: 0.1158 - val_mae: 0.2589\n",
      "Epoch 42/50\n",
      "\u001b[1m13/13\u001b[0m \u001b[32m━━━━━━━━━━━━━━━━━━━━\u001b[0m\u001b[37m\u001b[0m \u001b[1m0s\u001b[0m 3ms/step - loss: 0.1101 - mae: 0.2655 - val_loss: 0.1174 - val_mae: 0.2561\n",
      "Epoch 43/50\n",
      "\u001b[1m13/13\u001b[0m \u001b[32m━━━━━━━━━━━━━━━━━━━━\u001b[0m\u001b[37m\u001b[0m \u001b[1m0s\u001b[0m 3ms/step - loss: 0.1037 - mae: 0.2504 - val_loss: 0.1110 - val_mae: 0.2532\n",
      "Epoch 44/50\n",
      "\u001b[1m13/13\u001b[0m \u001b[32m━━━━━━━━━━━━━━━━━━━━\u001b[0m\u001b[37m\u001b[0m \u001b[1m0s\u001b[0m 4ms/step - loss: 0.0981 - mae: 0.2513 - val_loss: 0.1104 - val_mae: 0.2518\n",
      "Epoch 45/50\n",
      "\u001b[1m13/13\u001b[0m \u001b[32m━━━━━━━━━━━━━━━━━━━━\u001b[0m\u001b[37m\u001b[0m \u001b[1m0s\u001b[0m 3ms/step - loss: 0.0952 - mae: 0.2445 - val_loss: 0.1106 - val_mae: 0.2530\n",
      "Epoch 46/50\n",
      "\u001b[1m13/13\u001b[0m \u001b[32m━━━━━━━━━━━━━━━━━━━━\u001b[0m\u001b[37m\u001b[0m \u001b[1m0s\u001b[0m 3ms/step - loss: 0.0923 - mae: 0.2444 - val_loss: 0.1103 - val_mae: 0.2514\n",
      "Epoch 47/50\n",
      "\u001b[1m13/13\u001b[0m \u001b[32m━━━━━━━━━━━━━━━━━━━━\u001b[0m\u001b[37m\u001b[0m \u001b[1m0s\u001b[0m 3ms/step - loss: 0.0944 - mae: 0.2438 - val_loss: 0.1106 - val_mae: 0.2538\n",
      "Epoch 48/50\n",
      "\u001b[1m13/13\u001b[0m \u001b[32m━━━━━━━━━━━━━━━━━━━━\u001b[0m\u001b[37m\u001b[0m \u001b[1m0s\u001b[0m 3ms/step - loss: 0.0933 - mae: 0.2432 - val_loss: 0.1196 - val_mae: 0.2661\n",
      "Epoch 49/50\n",
      "\u001b[1m13/13\u001b[0m \u001b[32m━━━━━━━━━━━━━━━━━━━━\u001b[0m\u001b[37m\u001b[0m \u001b[1m0s\u001b[0m 3ms/step - loss: 0.0977 - mae: 0.2506 - val_loss: 0.1121 - val_mae: 0.2571\n",
      "Epoch 50/50\n",
      "\u001b[1m13/13\u001b[0m \u001b[32m━━━━━━━━━━━━━━━━━━━━\u001b[0m\u001b[37m\u001b[0m \u001b[1m0s\u001b[0m 3ms/step - loss: 0.0949 - mae: 0.2500 - val_loss: 0.1178 - val_mae: 0.2517\n"
     ]
    },
    {
     "data": {
      "text/plain": [
       "<keras.src.callbacks.history.History at 0x1f48ab87310>"
      ]
     },
     "execution_count": 9,
     "metadata": {},
     "output_type": "execute_result"
    }
   ],
   "source": [
    "# Train the model\n",
    "iterative_model = build_iterative_bandwidth_estimator(X_train.shape[1])\n",
    "iterative_model.fit(np.hstack([X_train, np.zeros((X_train.shape[0], 2))]), y_train, epochs=50, batch_size=32, validation_split=0.2)"
   ]
  },
  {
   "cell_type": "markdown",
   "id": "130980da",
   "metadata": {},
   "source": [
    "# Iterative Prediction"
   ]
  },
  {
   "cell_type": "code",
   "execution_count": 10,
   "id": "94d95927",
   "metadata": {},
   "outputs": [],
   "source": [
    "def iterative_prediction(model, X, num_iterations=5, initial_A=50, initial_C=100):\n",
    "    \"\"\"\n",
    "    Iteratively refines predictions for A (Available Bandwidth) and C (Capacity).\n",
    "    \n",
    "    Args:\n",
    "    - model: Trained iterative NN model.\n",
    "    - X: Input feature matrix (g_out/g_in ratios).\n",
    "    - num_iterations: Number of refinement steps.\n",
    "    - initial_A: Initial guess for Available Bandwidth.\n",
    "    - initial_C: Initial guess for Capacity.\n",
    "    \n",
    "    Returns:\n",
    "    - A, C estimates after iterations.\n",
    "    \"\"\"\n",
    "    A_pred = np.full((X.shape[0], 1), initial_A)\n",
    "    C_pred = np.full((X.shape[0], 1), initial_C)\n",
    "    \n",
    "    for _ in range(num_iterations):\n",
    "        input_data = np.hstack([X, A_pred, C_pred])  # Combine features with previous estimates\n",
    "        predictions = model.predict(input_data)\n",
    "        A_pred, C_pred = predictions[:, 0].reshape(-1, 1), predictions[:, 1].reshape(-1, 1)\n",
    "    \n",
    "    return A_pred, C_pred"
   ]
  },
  {
   "cell_type": "markdown",
   "id": "e9b6d3f4",
   "metadata": {},
   "source": [
    "# Print the Results"
   ]
  },
  {
   "cell_type": "code",
   "execution_count": 11,
   "id": "bf97cc9b",
   "metadata": {},
   "outputs": [
    {
     "name": "stdout",
     "output_type": "stream",
     "text": [
      "\u001b[1m4/4\u001b[0m \u001b[32m━━━━━━━━━━━━━━━━━━━━\u001b[0m\u001b[37m\u001b[0m \u001b[1m0s\u001b[0m 8ms/step \n",
      "\u001b[1m4/4\u001b[0m \u001b[32m━━━━━━━━━━━━━━━━━━━━\u001b[0m\u001b[37m\u001b[0m \u001b[1m0s\u001b[0m 1ms/step \n",
      "\u001b[1m4/4\u001b[0m \u001b[32m━━━━━━━━━━━━━━━━━━━━\u001b[0m\u001b[37m\u001b[0m \u001b[1m0s\u001b[0m 1ms/step \n",
      "\u001b[1m4/4\u001b[0m \u001b[32m━━━━━━━━━━━━━━━━━━━━\u001b[0m\u001b[37m\u001b[0m \u001b[1m0s\u001b[0m 734us/step\n",
      "\u001b[1m4/4\u001b[0m \u001b[32m━━━━━━━━━━━━━━━━━━━━\u001b[0m\u001b[37m\u001b[0m \u001b[1m0s\u001b[0m 1ms/step \n",
      "MSE for A: 0.1705, MSE for C: 0.3680\n"
     ]
    }
   ],
   "source": [
    "# Evaluate model\n",
    "A_pred, C_pred = iterative_prediction(iterative_model, X_test)\n",
    "mse_A = np.mean((A_pred - y_test[:, 0])**2)\n",
    "mse_C = np.mean((C_pred - y_test[:, 1])**2)\n",
    "\n",
    "print(f'MSE for A: {mse_A:.4f}, MSE for C: {mse_C:.4f}')"
   ]
  },
  {
   "cell_type": "code",
   "execution_count": null,
   "id": "5a62c475",
   "metadata": {},
   "outputs": [],
   "source": []
  }
 ],
 "metadata": {
  "kernelspec": {
   "display_name": "Python 3 (ipykernel)",
   "language": "python",
   "name": "python3"
  },
  "language_info": {
   "codemirror_mode": {
    "name": "ipython",
    "version": 3
   },
   "file_extension": ".py",
   "mimetype": "text/x-python",
   "name": "python",
   "nbconvert_exporter": "python",
   "pygments_lexer": "ipython3",
   "version": "3.11.7"
  }
 },
 "nbformat": 4,
 "nbformat_minor": 5
}
