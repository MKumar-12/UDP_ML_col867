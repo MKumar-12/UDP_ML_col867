{
 "cells": [
  {
   "cell_type": "code",
   "execution_count": 1,
   "id": "709b0440",
   "metadata": {},
   "outputs": [],
   "source": [
    "import pandas as pd"
   ]
  },
  {
   "cell_type": "markdown",
   "id": "8877a75b",
   "metadata": {},
   "source": [
    "# Load Files"
   ]
  },
  {
   "cell_type": "code",
   "execution_count": 7,
   "id": "bf687182",
   "metadata": {},
   "outputs": [],
   "source": [
    "rin_file = \"Data_D2/stream_rates_rin.csv\"  \n",
    "rout_file = \"Data_D2/stream_rates_rout.csv\"  \n",
    "\n",
    "df_rin = pd.read_csv(rin_file)\n",
    "df_rout = pd.read_csv(rout_file)\n"
   ]
  },
  {
   "cell_type": "code",
   "execution_count": 14,
   "id": "acda7e65",
   "metadata": {},
   "outputs": [
    {
     "name": "stdout",
     "output_type": "stream",
     "text": [
      "      47.27  2.37  4.72  7.08  9.44  11.80  14.14  16.53  18.93  21.29  ...  \\\n",
      "0     37.73  1.90  3.78  5.68  7.56   9.46  11.34  13.24  15.13  17.11  ...   \n",
      "1     41.87  2.10  4.18  6.27  8.36  10.45  12.54  14.65  16.75  18.85  ...   \n",
      "2     41.54  2.09  4.16  6.25  8.32  10.41  12.52  14.58  16.67  22.70  ...   \n",
      "3     41.81  2.10  4.18  6.28  8.37  10.45  12.53  14.65  16.75  18.85  ...   \n",
      "4     37.88  1.90  3.78  5.67  7.57   9.45  12.69  13.25  15.14  17.04  ...   \n",
      "...     ...   ...   ...   ...   ...    ...    ...    ...    ...    ...  ...   \n",
      "2394  28.50  1.45  2.84  4.26  5.68   7.10   8.51   9.76  10.83  11.86  ...   \n",
      "2395  30.95  1.58  3.10  4.65  6.20   7.75   9.26  10.47  11.58  12.65  ...   \n",
      "2396  26.61  1.36  2.66  3.99  5.33   6.65   7.98   9.26  10.32  11.28  ...   \n",
      "2397  28.36  1.45  2.92  4.26  5.68   7.11   9.25   9.76  10.84  11.86  ...   \n",
      "2398  26.60  1.36  2.66  3.99  5.32   6.64   7.98   9.28  10.31  11.29  ...   \n",
      "\n",
      "      26.00  28.41  30.92  33.14  34.79  35.58  2232.49  36.65    37.31  37.53  \n",
      "0     20.77  22.66  24.74  26.53  28.34  30.23    32.15  33.88    34.86  35.51  \n",
      "1     22.95  25.26  27.16  29.21  31.46  33.54    51.77  35.35    35.98  36.45  \n",
      "2     22.94  25.02  27.19  39.59  31.22  33.38    34.86  35.55  1933.61  36.41  \n",
      "3     23.05  25.15  27.31  40.19  31.37  33.44    35.04  35.61  9269.16  36.70  \n",
      "4     25.76  22.74  24.63  26.54  28.41  42.06    32.11  34.13    35.15  35.60  \n",
      "...     ...    ...    ...    ...    ...    ...      ...    ...      ...    ...  \n",
      "2394  13.71  14.61  15.39  16.20  16.99  17.65    18.31  19.02    19.64  20.19  \n",
      "2395  14.61  15.48  16.37  17.16  17.91  18.66    19.32  20.03    20.62  80.71  \n",
      "2396  13.13  13.95  14.79  15.54  16.26  16.93    17.60  18.25    54.60  19.47  \n",
      "2397  26.34  14.61  15.43  16.20  16.92  17.67    18.39  18.96    19.64  20.19  \n",
      "2398  13.12  13.95  14.74  33.59  16.25  16.92    17.59  18.24    18.89  60.19  \n",
      "\n",
      "[2399 rows x 21 columns]\n"
     ]
    }
   ],
   "source": [
    "print(df_rout)"
   ]
  },
  {
   "cell_type": "markdown",
   "id": "f6555adf",
   "metadata": {},
   "source": [
    "# Define Packet Size"
   ]
  },
  {
   "cell_type": "code",
   "execution_count": 8,
   "id": "925a2b29",
   "metadata": {},
   "outputs": [],
   "source": [
    "packet_size_bits = 12112  "
   ]
  },
  {
   "cell_type": "markdown",
   "id": "bb2aafe5",
   "metadata": {},
   "source": [
    "# Compute gin and gout"
   ]
  },
  {
   "cell_type": "code",
   "execution_count": 9,
   "id": "ddc1e288",
   "metadata": {},
   "outputs": [],
   "source": [
    "df_gin = packet_size_bits / df_rin  \n",
    "df_gout = packet_size_bits / df_rout\n",
    "df_ratio = df_gout / df_gin\n",
    "\n"
   ]
  },
  {
   "cell_type": "markdown",
   "id": "e93ee4b9",
   "metadata": {},
   "source": [
    "# Save to CSV"
   ]
  },
  {
   "cell_type": "code",
   "execution_count": 10,
   "id": "0a83135f",
   "metadata": {},
   "outputs": [
    {
     "name": "stdout",
     "output_type": "stream",
     "text": [
      "Files saved: gin.csv, gout.csv, gin_gout_ratio.csv\n"
     ]
    }
   ],
   "source": [
    "df_gin.to_csv(\"Data_D2/gin.csv\", index=False)\n",
    "df_gout.to_csv(\"Data_D2/gout.csv\", index=False)\n",
    "df_ratio.to_csv(\"Data_D2/gin_gout_ratio.csv\", index=False)\n",
    "\n",
    "print(\"Files saved: gin.csv, gout.csv, gin_gout_ratio.csv\")\n"
   ]
  },
  {
   "cell_type": "code",
   "execution_count": 11,
   "id": "b42af4a8",
   "metadata": {},
   "outputs": [
    {
     "name": "stdout",
     "output_type": "stream",
     "text": [
      "gin_gout_ratio.csv has been generated successfully.\n"
     ]
    }
   ],
   "source": [
    "import numpy as np\n",
    "import pandas as pd\n",
    "\n",
    "# Load gin and gout files (assuming they have no headers)\n",
    "gin = pd.read_csv(\"Data_D2/gin.csv\", header=None)\n",
    "gout = pd.read_csv(\"Data_D2/gout.csv\", header=None)\n",
    "\n",
    "# Compute gin/gout ratio\n",
    "ratio = gout.values / gin.values\n",
    "\n",
    "# Save to a new CSV file\n",
    "pd.DataFrame(ratio).to_csv(\"Data_D2/gin_gout_ratio.csv\", index=False, header=False)\n",
    "\n",
    "print(\"gin_gout_ratio.csv has been generated successfully.\")\n"
   ]
  },
  {
   "cell_type": "code",
   "execution_count": null,
   "id": "f6bc7496",
   "metadata": {},
   "outputs": [],
   "source": []
  }
 ],
 "metadata": {
  "kernelspec": {
   "display_name": "Python 3 (ipykernel)",
   "language": "python",
   "name": "python3"
  },
  "language_info": {
   "codemirror_mode": {
    "name": "ipython",
    "version": 3
   },
   "file_extension": ".py",
   "mimetype": "text/x-python",
   "name": "python",
   "nbconvert_exporter": "python",
   "pygments_lexer": "ipython3",
   "version": "3.11.7"
  }
 },
 "nbformat": 4,
 "nbformat_minor": 5
}
