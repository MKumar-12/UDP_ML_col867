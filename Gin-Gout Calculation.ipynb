{
 "cells": [
  {
   "cell_type": "code",
   "execution_count": 1,
   "id": "709b0440",
   "metadata": {},
   "outputs": [],
   "source": [
    "import pandas as pd"
   ]
  },
  {
   "cell_type": "markdown",
   "id": "8877a75b",
   "metadata": {},
   "source": [
    "# Load Files"
   ]
  },
  {
   "cell_type": "code",
   "execution_count": 2,
   "id": "bf687182",
   "metadata": {},
   "outputs": [],
   "source": [
    "rin_file = \"Data/stream_rates_rin.csv\"  \n",
    "rout_file = \"Data/stream_rates_rout.csv\"  \n",
    "\n",
    "df_rin = pd.read_csv(rin_file)\n",
    "df_rout = pd.read_csv(rout_file)\n"
   ]
  },
  {
   "cell_type": "markdown",
   "id": "f6555adf",
   "metadata": {},
   "source": [
    "# Define Packet Size"
   ]
  },
  {
   "cell_type": "code",
   "execution_count": 3,
   "id": "925a2b29",
   "metadata": {},
   "outputs": [],
   "source": [
    "packet_size_bits = 12112  "
   ]
  },
  {
   "cell_type": "markdown",
   "id": "bb2aafe5",
   "metadata": {},
   "source": [
    "# Compute gin and gout"
   ]
  },
  {
   "cell_type": "code",
   "execution_count": 4,
   "id": "ddc1e288",
   "metadata": {},
   "outputs": [],
   "source": [
    "df_gin = packet_size_bits / df_rin  \n",
    "df_gout = packet_size_bits / df_rout\n",
    "df_ratio = df_gout / df_gin\n",
    "\n"
   ]
  },
  {
   "cell_type": "markdown",
   "id": "e93ee4b9",
   "metadata": {},
   "source": [
    "# Save to CSV"
   ]
  },
  {
   "cell_type": "code",
   "execution_count": 5,
   "id": "0a83135f",
   "metadata": {},
   "outputs": [
    {
     "name": "stdout",
     "output_type": "stream",
     "text": [
      "Files saved: gin.csv, gout.csv, gin_gout_ratio.csv\n"
     ]
    }
   ],
   "source": [
    "df_gin.to_csv(\"Data/gin.csv\", index=False)\n",
    "df_gout.to_csv(\"Data/gout.csv\", index=False)\n",
    "df_ratio.to_csv(\"Data/gin_gout_ratio.csv\", index=False)\n",
    "\n",
    "print(\"Files saved: gin.csv, gout.csv, gin_gout_ratio.csv\")\n"
   ]
  },
  {
   "cell_type": "code",
   "execution_count": 6,
   "id": "b42af4a8",
   "metadata": {},
   "outputs": [
    {
     "name": "stdout",
     "output_type": "stream",
     "text": [
      "gin_gout_ratio.csv has been generated successfully.\n"
     ]
    }
   ],
   "source": [
    "import numpy as np\n",
    "import pandas as pd\n",
    "\n",
    "# Load gin and gout files (assuming they have no headers)\n",
    "gin = pd.read_csv(\"Data/gin.csv\", header=None)\n",
    "gout = pd.read_csv(\"Data/gout.csv\", header=None)\n",
    "\n",
    "# Compute gin/gout ratio\n",
    "ratio = gin.values / gout.values\n",
    "\n",
    "# Save to a new CSV file\n",
    "pd.DataFrame(ratio).to_csv(\"Data/gin_gout_ratio.csv\", index=False, header=False)\n",
    "\n",
    "print(\"gin_gout_ratio.csv has been generated successfully.\")\n"
   ]
  },
  {
   "cell_type": "code",
   "execution_count": null,
   "id": "f6bc7496",
   "metadata": {},
   "outputs": [],
   "source": []
  }
 ],
 "metadata": {
  "kernelspec": {
   "display_name": "Python 3 (ipykernel)",
   "language": "python",
   "name": "python3"
  },
  "language_info": {
   "codemirror_mode": {
    "name": "ipython",
    "version": 3
   },
   "file_extension": ".py",
   "mimetype": "text/x-python",
   "name": "python",
   "nbconvert_exporter": "python",
   "pygments_lexer": "ipython3",
   "version": "3.11.7"
  }
 },
 "nbformat": 4,
 "nbformat_minor": 5
}
