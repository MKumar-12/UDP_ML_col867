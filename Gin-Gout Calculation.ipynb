{
 "cells": [
  {
   "cell_type": "code",
   "execution_count": 15,
   "id": "709b0440",
   "metadata": {},
   "outputs": [],
   "source": [
    "import pandas as pd"
   ]
  },
  {
   "cell_type": "markdown",
   "id": "8877a75b",
   "metadata": {},
   "source": [
    "# Load Files"
   ]
  },
  {
   "cell_type": "code",
   "execution_count": 16,
   "id": "bf687182",
   "metadata": {},
   "outputs": [],
   "source": [
    "rin_file = \"Data_D1/filtered_stream_rates_rin.csv\"  \n",
    "rout_file = \"Data_D1/filtered_stream_rates_rout.csv\"  \n",
    "\n",
    "df_rin = pd.read_csv(rin_file)\n",
    "df_rout = pd.read_csv(rout_file)\n"
   ]
  },
  {
   "cell_type": "code",
   "execution_count": 17,
   "id": "acda7e65",
   "metadata": {},
   "outputs": [
    {
     "name": "stdout",
     "output_type": "stream",
     "text": [
      "       93.57   4.7   9.36  14.06  18.72  23.35  28.09   32.7  57.26  42.14  \\\n",
      "0     125.71  6.32  12.59  18.84  25.19  31.01  37.51  44.07  50.40  56.86   \n",
      "1     156.34  7.86  15.64  23.47  31.24  39.02  46.95  54.89  62.61  69.89   \n",
      "2      94.21  4.73   9.42  14.13  18.84  23.54  28.29  32.98  37.81  42.48   \n",
      "3     124.86  6.27  12.48  18.72  24.92  31.21  37.48  43.76  49.95  56.18   \n",
      "4     101.66  5.10  10.17  15.25  20.36  25.35  30.49  35.61  40.63  45.73   \n",
      "...      ...   ...    ...    ...    ...    ...    ...    ...    ...    ...   \n",
      "1310   61.47  3.14   6.14   9.20  12.27  15.37  22.19  20.76  23.05  25.11   \n",
      "1311   73.12  3.76   7.32  10.99  14.67  18.28  21.16  23.77  26.32  28.54   \n",
      "1312   61.42  3.14   6.14   9.22  12.30  15.32  18.34  20.76  22.95  25.29   \n",
      "1313   61.51  3.15   6.16   9.24  12.34  18.02  18.46  20.80  23.10  25.24   \n",
      "1314   52.91  2.70   5.30   8.59  10.61  13.25  15.87  18.48  20.54  22.52   \n",
      "\n",
      "      ...  51.77  55.94  60.65  65.56  69.56  70.79  71.55  72.62    73.9  \\\n",
      "0     ...  69.53  70.98  72.68  73.83  74.96  75.38  75.12  74.93   74.96   \n",
      "1     ...  73.15  75.55  75.06  74.94  74.96  75.09  74.94  75.10   75.74   \n",
      "2     ...  51.97  56.64  61.58  66.06  69.73  71.24  72.57  72.91   73.80   \n",
      "3     ...  69.01  70.61  72.49  73.28  74.40  75.06  74.97  75.08   75.25   \n",
      "4     ...  55.91  61.02  65.82  69.58  71.14  72.71  73.39  74.40  252.50   \n",
      "...   ...    ...    ...    ...    ...    ...    ...    ...    ...     ...   \n",
      "1310  ...  39.85  30.79  32.42  34.00  35.70  37.08  38.58  39.85   41.39   \n",
      "1311  ...  32.68  50.60  36.49  38.20  39.94  40.91  42.60  43.97   45.45   \n",
      "1312  ...  39.71  30.90  32.49  34.20  35.54  37.04  38.50  39.91   40.94   \n",
      "1313  ...  29.14  30.88  32.63  34.23  35.58  37.19  38.57  40.12   41.20   \n",
      "1314  ...  26.11  27.89  29.48  43.47  32.43  33.74  35.19  36.49   57.76   \n",
      "\n",
      "       75.0  \n",
      "0     75.10  \n",
      "1     75.03  \n",
      "2     75.19  \n",
      "3     75.09  \n",
      "4     74.97  \n",
      "...     ...  \n",
      "1310  42.32  \n",
      "1311  46.30  \n",
      "1312  42.14  \n",
      "1313  42.44  \n",
      "1314  38.65  \n",
      "\n",
      "[1315 rows x 21 columns]\n"
     ]
    }
   ],
   "source": [
    "print(df_rout)"
   ]
  },
  {
   "cell_type": "markdown",
   "id": "f6555adf",
   "metadata": {},
   "source": [
    "# Define Packet Size"
   ]
  },
  {
   "cell_type": "code",
   "execution_count": 18,
   "id": "925a2b29",
   "metadata": {},
   "outputs": [],
   "source": [
    "packet_size_bits = 12112  "
   ]
  },
  {
   "cell_type": "markdown",
   "id": "bb2aafe5",
   "metadata": {},
   "source": [
    "# Compute gin and gout"
   ]
  },
  {
   "cell_type": "code",
   "execution_count": 19,
   "id": "ddc1e288",
   "metadata": {},
   "outputs": [],
   "source": [
    "df_gin = packet_size_bits / df_rin  \n",
    "df_gout = packet_size_bits / df_rout\n",
    "df_ratio = df_gout / df_gin"
   ]
  },
  {
   "cell_type": "markdown",
   "id": "e93ee4b9",
   "metadata": {},
   "source": [
    "# Save to CSV"
   ]
  },
  {
   "cell_type": "code",
   "execution_count": 20,
   "id": "0a83135f",
   "metadata": {},
   "outputs": [
    {
     "name": "stdout",
     "output_type": "stream",
     "text": [
      "Files saved: gin.csv, gout.csv, gin_gout_ratio.csv\n"
     ]
    }
   ],
   "source": [
    "df_gin.to_csv(\"Data_D1/gin.csv\", index=False)\n",
    "df_gout.to_csv(\"Data_D1/gout.csv\", index=False)\n",
    "df_ratio.to_csv(\"Data_D1/gin_gout_ratio.csv\", index=False)\n",
    "\n",
    "print(\"Files saved: gin.csv, gout.csv, gin_gout_ratio.csv\")\n"
   ]
  },
  {
   "cell_type": "code",
   "execution_count": 21,
   "id": "b42af4a8",
   "metadata": {},
   "outputs": [
    {
     "name": "stdout",
     "output_type": "stream",
     "text": [
      "gin_gout_ratio.csv has been generated successfully.\n"
     ]
    }
   ],
   "source": [
    "import numpy as np\n",
    "import pandas as pd\n",
    "\n",
    "# Load gin and gout files (assuming they have no headers)\n",
    "gin = pd.read_csv(\"Data_D1/gin.csv\", header=None)\n",
    "gout = pd.read_csv(\"Data_D1/gout.csv\", header=None)\n",
    "\n",
    "# Compute gin/gout ratio\n",
    "ratio = gout.values / gin.values\n",
    "\n",
    "# Save to a new CSV file\n",
    "pd.DataFrame(ratio).to_csv(\"Data_D1/gin_gout_ratio.csv\", index=False, header=False)\n",
    "\n",
    "print(\"gin_gout_ratio.csv has been generated successfully.\")\n"
   ]
  },
  {
   "cell_type": "code",
   "execution_count": null,
   "id": "f6bc7496",
   "metadata": {},
   "outputs": [],
   "source": []
  }
 ],
 "metadata": {
  "kernelspec": {
   "display_name": "Python 3 (ipykernel)",
   "language": "python",
   "name": "python3"
  },
  "language_info": {
   "codemirror_mode": {
    "name": "ipython",
    "version": 3
   },
   "file_extension": ".py",
   "mimetype": "text/x-python",
   "name": "python",
   "nbconvert_exporter": "python",
   "pygments_lexer": "ipython3",
   "version": "3.11.7"
  }
 },
 "nbformat": 4,
 "nbformat_minor": 5
}
