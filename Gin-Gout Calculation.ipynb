{
 "cells": [
  {
   "cell_type": "code",
   "execution_count": 53,
   "id": "709b0440",
   "metadata": {},
   "outputs": [],
   "source": [
    "import pandas as pd"
   ]
  },
  {
   "cell_type": "markdown",
   "id": "8877a75b",
   "metadata": {},
   "source": [
    "# Load Files"
   ]
  },
  {
   "cell_type": "code",
   "execution_count": 54,
   "id": "bf687182",
   "metadata": {},
   "outputs": [],
   "source": [
    "rin_file = \"Data_D3/filtered_stream_rates_rin.csv\"  \n",
    "rout_file = \"Data_D3/filtered_stream_rates_rout.csv\"  \n",
    "\n",
    "df_rin = pd.read_csv(rin_file)\n",
    "df_rout = pd.read_csv(rout_file)\n"
   ]
  },
  {
   "cell_type": "code",
   "execution_count": 55,
   "id": "acda7e65",
   "metadata": {},
   "outputs": [
    {
     "name": "stdout",
     "output_type": "stream",
     "text": [
      "     151.99  7.61  15.22  22.85  30.86  38.16  45.84  53.37  61.05  68.77  \\\n",
      "0    150.95  7.56  15.09  22.67  30.20  37.76  45.32  53.15  60.83  68.14   \n",
      "1    148.26  7.41  14.83  22.29  29.65  37.21  44.62  51.97  59.61  67.04   \n",
      "2    107.89  5.39  10.79  16.20  21.61  26.99  32.44  37.99  43.28  48.55   \n",
      "3    110.59  5.53  11.07  16.61  22.16  37.64  33.22  38.88  44.31  49.98   \n",
      "4    106.52  5.33  10.67  16.01  21.37  26.72  32.06  37.44  42.77  48.19   \n",
      "..      ...   ...    ...    ...    ...    ...    ...    ...    ...    ...   \n",
      "588   56.48  2.90   5.62   8.19  10.62  12.90  15.13  17.14  19.15  20.92   \n",
      "589   56.37  2.90   5.62   8.20  10.61  12.93  15.13  17.20  19.06  20.99   \n",
      "590   56.52  2.91   5.64   8.23  10.61  12.91  15.15  17.23  19.23  20.98   \n",
      "591   66.42  3.39   6.55   9.50  12.24  14.86  17.25  19.56  21.72  23.83   \n",
      "592   56.38  2.90   5.62   8.19  10.60  12.90  15.08  17.16  19.14  20.98   \n",
      "\n",
      "     ...  82.42  83.46   84.6    82.54   82.81   84.4    83.96  83.88  83.67  \\\n",
      "0    ...  79.86  83.65  84.54    83.93   84.45  84.10    84.61  84.66  84.41   \n",
      "1    ...  81.47  83.59  84.38    84.26   84.35  84.18    84.36  84.27  84.21   \n",
      "2    ...  59.43  64.91  70.54    75.94  334.78  82.88    83.71  84.42  84.24   \n",
      "3    ...  61.22  66.73  72.45    77.79   83.47  83.85    84.27  84.50  84.50   \n",
      "4    ...  58.91  64.41  69.39    75.19   80.40  82.54    83.73  84.44  84.47   \n",
      "..   ...    ...    ...    ...      ...     ...    ...      ...    ...    ...   \n",
      "588  ...  24.43  26.04  27.66    29.05   30.49  31.91    47.87  34.21  35.59   \n",
      "589  ...  24.42  34.25  27.58    29.16   30.39  32.01  8135.09  34.32  35.57   \n",
      "590  ...  24.54  26.18  27.58    29.04   30.49  31.89  8054.29  34.45  35.73   \n",
      "591  ...  27.68  29.13  30.77    32.54   34.00  35.44    36.77  38.19  39.26   \n",
      "592  ...  24.48  25.97  27.60  7119.61   30.58  31.77    33.07  34.33  52.68   \n",
      "\n",
      "       83.98  \n",
      "0     375.22  \n",
      "1      84.40  \n",
      "2    1649.87  \n",
      "3    5374.40  \n",
      "4      84.50  \n",
      "..       ...  \n",
      "588    36.63  \n",
      "589    36.77  \n",
      "590    36.77  \n",
      "591    40.56  \n",
      "592    36.77  \n",
      "\n",
      "[593 rows x 21 columns]\n"
     ]
    }
   ],
   "source": [
    "print(df_rout)"
   ]
  },
  {
   "cell_type": "markdown",
   "id": "f6555adf",
   "metadata": {},
   "source": [
    "# Define Packet Size"
   ]
  },
  {
   "cell_type": "code",
   "execution_count": 56,
   "id": "925a2b29",
   "metadata": {},
   "outputs": [],
   "source": [
    "packet_size_bits = 12112  "
   ]
  },
  {
   "cell_type": "markdown",
   "id": "bb2aafe5",
   "metadata": {},
   "source": [
    "# Compute gin and gout"
   ]
  },
  {
   "cell_type": "code",
   "execution_count": 57,
   "id": "ddc1e288",
   "metadata": {},
   "outputs": [],
   "source": [
    "df_gin = packet_size_bits / df_rin  \n",
    "df_gout = packet_size_bits / df_rout\n",
    "df_ratio = df_gout / df_gin"
   ]
  },
  {
   "cell_type": "markdown",
   "id": "e93ee4b9",
   "metadata": {},
   "source": [
    "# Save to CSV"
   ]
  },
  {
   "cell_type": "code",
   "execution_count": 58,
   "id": "0a83135f",
   "metadata": {},
   "outputs": [
    {
     "name": "stdout",
     "output_type": "stream",
     "text": [
      "Files saved: gin.csv, gout.csv, gin_gout_ratio.csv\n"
     ]
    }
   ],
   "source": [
    "df_gin.to_csv(\"Data_D3/gin.csv\", index=False)\n",
    "df_gout.to_csv(\"Data_D3/gout.csv\", index=False)\n",
    "df_ratio.to_csv(\"Data_D3/gin_gout_ratio.csv\", index=False)\n",
    "\n",
    "print(\"Files saved: gin.csv, gout.csv, gin_gout_ratio.csv\")\n"
   ]
  },
  {
   "cell_type": "code",
   "execution_count": 59,
   "id": "b42af4a8",
   "metadata": {},
   "outputs": [
    {
     "name": "stdout",
     "output_type": "stream",
     "text": [
      "gin_gout_ratio.csv has been generated successfully.\n"
     ]
    }
   ],
   "source": [
    "import numpy as np\n",
    "import pandas as pd\n",
    "\n",
    "# Load gin and gout files (assuming they have no headers)\n",
    "gin = pd.read_csv(\"Data_D3/gin.csv\", header=None)\n",
    "gout = pd.read_csv(\"Data_D3/gout.csv\", header=None)\n",
    "\n",
    "# Compute gin/gout ratio\n",
    "ratio = gout.values / gin.values\n",
    "\n",
    "# Save to a new CSV file\n",
    "pd.DataFrame(ratio).to_csv(\"Data_D3/gin_gout_ratio.csv\", index=False, header=False)\n",
    "\n",
    "print(\"gin_gout_ratio.csv has been generated successfully.\")\n"
   ]
  },
  {
   "cell_type": "code",
   "execution_count": null,
   "id": "f6bc7496",
   "metadata": {},
   "outputs": [],
   "source": []
  }
 ],
 "metadata": {
  "kernelspec": {
   "display_name": "Python 3 (ipykernel)",
   "language": "python",
   "name": "python3"
  },
  "language_info": {
   "codemirror_mode": {
    "name": "ipython",
    "version": 3
   },
   "file_extension": ".py",
   "mimetype": "text/x-python",
   "name": "python",
   "nbconvert_exporter": "python",
   "pygments_lexer": "ipython3",
   "version": "3.11.7"
  }
 },
 "nbformat": 4,
 "nbformat_minor": 5
}
