{
 "cells": [
  {
   "cell_type": "code",
   "execution_count": 9,
   "id": "11033920",
   "metadata": {},
   "outputs": [],
   "source": [
    "import pandas as pd\n",
    "import numpy as np\n",
    "import matplotlib.pyplot as plt\n",
    "from sklearn.model_selection import train_test_split\n",
    "from sklearn.preprocessing import MinMaxScaler\n",
    "import tensorflow as tf\n",
    "from tensorflow import keras\n",
    "from tensorflow.keras import layers"
   ]
  },
  {
   "cell_type": "markdown",
   "id": "7b74dc55",
   "metadata": {},
   "source": [
    "# Load and Prepare Data"
   ]
  },
  {
   "cell_type": "code",
   "execution_count": 11,
   "id": "9050c158",
   "metadata": {},
   "outputs": [
    {
     "data": {
      "image/png": "[encoded data removed]",
      "text/plain": [
       "<Figure size 640x480 with 1 Axes>"
      ]
     },
     "metadata": {},
     "output_type": "display_data"
    }
   ],
   "source": [
    "gin_gout_file = \"Data/gin_gout_ratio.csv\"  \n",
    "df_features = pd.read_csv(gin_gout_file)\n",
    "\n",
    "\n",
    "test_info_file = \"Data/test_info.csv\"  \n",
    "df_labels = pd.read_csv(test_info_file)\n",
    "\n",
    "# Extract Capacity (C) and Cross Traffic\n",
    "C_values = df_labels.iloc[:, 0].values  # First column = Capacity (C)\n",
    "cross_traffic_values = df_labels.iloc[:, 1].values  # Second column = Cross Traffic\n",
    "\n",
    "# Compute Available Bandwidth (A = C - Cross Traffic)\n",
    "A_values = C_values - cross_traffic_values\n",
    "\n",
    "# Combine A and C as labels\n",
    "y = np.column_stack((A_values, C_values))  # Shape: (num_samples, 2)\n",
    "\n",
    "# Convert gin/gout ratio DataFrame to NumPy array\n",
    "X = df_features.values  # Shape: (num_samples, num_features)\n",
    "\n",
    "# Check dataset alignment\n",
    "if len(X) != len(y):\n",
    "    raise ValueError(f\"Mismatch: gin_gout_ratio.csv has {len(X)} rows, test_info.csv has {len(y)} labels.\")\n",
    "\n",
    "# Normalize A and C values using MinMaxScaler\n",
    "scaler = MinMaxScaler()\n",
    "y_scaled = scaler.fit_transform(y)  # Scale (A, C) values between 0 and 1\n",
    "\n",
    "# Split into training (80%) and testing (20%) sets\n",
    "X_train, X_test, y_train, y_test = train_test_split(X, y_scaled, test_size=0.2, random_state=42)\n",
    "\n",
    "# Plot data distribution to check if gin/gout ratios have useful variations\n",
    "plt.hist(X.flatten(), bins=50)\n",
    "plt.title(\"Distribution of gin/gout ratios\")\n",
    "plt.show()"
   ]
  },
  {
   "cell_type": "markdown",
   "id": "9edf33e5",
   "metadata": {},
   "source": [
    "# Build The Model"
   ]
  },
  {
   "cell_type": "code",
   "execution_count": 16,
   "id": "2f6fca64",
   "metadata": {},
   "outputs": [
    {
     "data": {
      "text/html": [
       "<pre style=\"white-space:pre;overflow-x:auto;line-height:normal;font-family:Menlo,'DejaVu Sans Mono',consolas,'Courier New',monospace\"><span style=\"font-weight: bold\">Model: \"sequential_5\"</span>\n",
       "</pre>\n"
      ],
      "text/plain": [
       "\u001b[1mModel: \"sequential_5\"\u001b[0m\n"
      ]
     },
     "metadata": {},
     "output_type": "display_data"
    },
    {
     "data": {
      "text/html": [
       "<pre style=\"white-space:pre;overflow-x:auto;line-height:normal;font-family:Menlo,'DejaVu Sans Mono',consolas,'Courier New',monospace\">┏━━━━━━━━━━━━━━━━━━━━━━━━━━━━━━━━━━━━━━┳━━━━━━━━━━━━━━━━━━━━━━━━━━━━━┳━━━━━━━━━━━━━━━━━┓\n",
       "┃<span style=\"font-weight: bold\"> Layer (type)                         </span>┃<span style=\"font-weight: bold\"> Output Shape                </span>┃<span style=\"font-weight: bold\">         Param # </span>┃\n",
       "┡━━━━━━━━━━━━━━━━━━━━━━━━━━━━━━━━━━━━━━╇━━━━━━━━━━━━━━━━━━━━━━━━━━━━━╇━━━━━━━━━━━━━━━━━┩\n",
       "│ dense_10 (<span style=\"color: #0087ff; text-decoration-color: #0087ff\">Dense</span>)                     │ (<span style=\"color: #00d7ff; text-decoration-color: #00d7ff\">None</span>, <span style=\"color: #00af00; text-decoration-color: #00af00\">40</span>)                  │             <span style=\"color: #00af00; text-decoration-color: #00af00\">880</span> │\n",
       "├──────────────────────────────────────┼─────────────────────────────┼─────────────────┤\n",
       "│ dense_11 (<span style=\"color: #0087ff; text-decoration-color: #0087ff\">Dense</span>)                     │ (<span style=\"color: #00d7ff; text-decoration-color: #00d7ff\">None</span>, <span style=\"color: #00af00; text-decoration-color: #00af00\">2</span>)                   │              <span style=\"color: #00af00; text-decoration-color: #00af00\">82</span> │\n",
       "└──────────────────────────────────────┴─────────────────────────────┴─────────────────┘\n",
       "</pre>\n"
      ],
      "text/plain": [
       "┏━━━━━━━━━━━━━━━━━━━━━━━━━━━━━━━━━━━━━━┳━━━━━━━━━━━━━━━━━━━━━━━━━━━━━┳━━━━━━━━━━━━━━━━━┓\n",
       "┃\u001b[1m \u001b[0m\u001b[1mLayer (type)                        \u001b[0m\u001b[1m \u001b[0m┃\u001b[1m \u001b[0m\u001b[1mOutput Shape               \u001b[0m\u001b[1m \u001b[0m┃\u001b[1m \u001b[0m\u001b[1m        Param #\u001b[0m\u001b[1m \u001b[0m┃\n",
       "┡━━━━━━━━━━━━━━━━━━━━━━━━━━━━━━━━━━━━━━╇━━━━━━━━━━━━━━━━━━━━━━━━━━━━━╇━━━━━━━━━━━━━━━━━┩\n",
       "│ dense_10 (\u001b[38;5;33mDense\u001b[0m)                     │ (\u001b[38;5;45mNone\u001b[0m, \u001b[38;5;34m40\u001b[0m)                  │             \u001b[38;5;34m880\u001b[0m │\n",
       "├──────────────────────────────────────┼─────────────────────────────┼─────────────────┤\n",
       "│ dense_11 (\u001b[38;5;33mDense\u001b[0m)                     │ (\u001b[38;5;45mNone\u001b[0m, \u001b[38;5;34m2\u001b[0m)                   │              \u001b[38;5;34m82\u001b[0m │\n",
       "└──────────────────────────────────────┴─────────────────────────────┴─────────────────┘\n"
      ]
     },
     "metadata": {},
     "output_type": "display_data"
    },
    {
     "data": {
      "text/html": [
       "<pre style=\"white-space:pre;overflow-x:auto;line-height:normal;font-family:Menlo,'DejaVu Sans Mono',consolas,'Courier New',monospace\"><span style=\"font-weight: bold\"> Total params: </span><span style=\"color: #00af00; text-decoration-color: #00af00\">962</span> (3.76 KB)\n",
       "</pre>\n"
      ],
      "text/plain": [
       "\u001b[1m Total params: \u001b[0m\u001b[38;5;34m962\u001b[0m (3.76 KB)\n"
      ]
     },
     "metadata": {},
     "output_type": "display_data"
    },
    {
     "data": {
      "text/html": [
       "<pre style=\"white-space:pre;overflow-x:auto;line-height:normal;font-family:Menlo,'DejaVu Sans Mono',consolas,'Courier New',monospace\"><span style=\"font-weight: bold\"> Trainable params: </span><span style=\"color: #00af00; text-decoration-color: #00af00\">962</span> (3.76 KB)\n",
       "</pre>\n"
      ],
      "text/plain": [
       "\u001b[1m Trainable params: \u001b[0m\u001b[38;5;34m962\u001b[0m (3.76 KB)\n"
      ]
     },
     "metadata": {},
     "output_type": "display_data"
    },
    {
     "data": {
      "text/html": [
       "<pre style=\"white-space:pre;overflow-x:auto;line-height:normal;font-family:Menlo,'DejaVu Sans Mono',consolas,'Courier New',monospace\"><span style=\"font-weight: bold\"> Non-trainable params: </span><span style=\"color: #00af00; text-decoration-color: #00af00\">0</span> (0.00 B)\n",
       "</pre>\n"
      ],
      "text/plain": [
       "\u001b[1m Non-trainable params: \u001b[0m\u001b[38;5;34m0\u001b[0m (0.00 B)\n"
      ]
     },
     "metadata": {},
     "output_type": "display_data"
    },
    {
     "name": "stdout",
     "output_type": "stream",
     "text": [
      "Epoch 1/50\n",
      "\u001b[1m13/13\u001b[0m \u001b[32m━━━━━━━━━━━━━━━━━━━━\u001b[0m\u001b[37m\u001b[0m \u001b[1m1s\u001b[0m 13ms/step - loss: 0.2623 - mae: 0.4557 - val_loss: 0.1874 - val_mae: 0.3734\n",
      "Epoch 2/50\n",
      "\u001b[1m13/13\u001b[0m \u001b[32m━━━━━━━━━━━━━━━━━━━━\u001b[0m\u001b[37m\u001b[0m \u001b[1m0s\u001b[0m 3ms/step - loss: 0.1772 - mae: 0.3649 - val_loss: 0.1658 - val_mae: 0.3648\n",
      "Epoch 3/50\n",
      "\u001b[1m13/13\u001b[0m \u001b[32m━━━━━━━━━━━━━━━━━━━━\u001b[0m\u001b[37m\u001b[0m \u001b[1m0s\u001b[0m 3ms/step - loss: 0.1647 - mae: 0.3659 - val_loss: 0.1649 - val_mae: 0.3706\n",
      "Epoch 4/50\n",
      "\u001b[1m13/13\u001b[0m \u001b[32m━━━━━━━━━━━━━━━━━━━━\u001b[0m\u001b[37m\u001b[0m \u001b[1m0s\u001b[0m 3ms/step - loss: 0.1639 - mae: 0.3648 - val_loss: 0.1641 - val_mae: 0.3619\n",
      "Epoch 5/50\n",
      "\u001b[1m13/13\u001b[0m \u001b[32m━━━━━━━━━━━━━━━━━━━━\u001b[0m\u001b[37m\u001b[0m \u001b[1m0s\u001b[0m 4ms/step - loss: 0.1644 - mae: 0.3634 - val_loss: 0.1619 - val_mae: 0.3608\n",
      "Epoch 6/50\n",
      "\u001b[1m13/13\u001b[0m \u001b[32m━━━━━━━━━━━━━━━━━━━━\u001b[0m\u001b[37m\u001b[0m \u001b[1m0s\u001b[0m 3ms/step - loss: 0.1580 - mae: 0.3550 - val_loss: 0.1624 - val_mae: 0.3646\n",
      "Epoch 7/50\n",
      "\u001b[1m13/13\u001b[0m \u001b[32m━━━━━━━━━━━━━━━━━━━━\u001b[0m\u001b[37m\u001b[0m \u001b[1m0s\u001b[0m 3ms/step - loss: 0.1613 - mae: 0.3636 - val_loss: 0.1613 - val_mae: 0.3585\n",
      "Epoch 8/50\n",
      "\u001b[1m13/13\u001b[0m \u001b[32m━━━━━━━━━━━━━━━━━━━━\u001b[0m\u001b[37m\u001b[0m \u001b[1m0s\u001b[0m 3ms/step - loss: 0.1598 - mae: 0.3580 - val_loss: 0.1599 - val_mae: 0.3607\n",
      "Epoch 9/50\n",
      "\u001b[1m13/13\u001b[0m \u001b[32m━━━━━━━━━━━━━━━━━━━━\u001b[0m\u001b[37m\u001b[0m \u001b[1m0s\u001b[0m 3ms/step - loss: 0.1591 - mae: 0.3598 - val_loss: 0.1586 - val_mae: 0.3558\n",
      "Epoch 10/50\n",
      "\u001b[1m13/13\u001b[0m \u001b[32m━━━━━━━━━━━━━━━━━━━━\u001b[0m\u001b[37m\u001b[0m \u001b[1m0s\u001b[0m 3ms/step - loss: 0.1579 - mae: 0.3553 - val_loss: 0.1583 - val_mae: 0.3573\n",
      "Epoch 11/50\n",
      "\u001b[1m13/13\u001b[0m \u001b[32m━━━━━━━━━━━━━━━━━━━━\u001b[0m\u001b[37m\u001b[0m \u001b[1m0s\u001b[0m 3ms/step - loss: 0.1551 - mae: 0.3519 - val_loss: 0.1572 - val_mae: 0.3539\n",
      "Epoch 12/50\n",
      "\u001b[1m13/13\u001b[0m \u001b[32m━━━━━━━━━━━━━━━━━━━━\u001b[0m\u001b[37m\u001b[0m \u001b[1m0s\u001b[0m 3ms/step - loss: 0.1560 - mae: 0.3543 - val_loss: 0.1570 - val_mae: 0.3559\n",
      "Epoch 13/50\n",
      "\u001b[1m13/13\u001b[0m \u001b[32m━━━━━━━━━━━━━━━━━━━━\u001b[0m\u001b[37m\u001b[0m \u001b[1m0s\u001b[0m 3ms/step - loss: 0.1553 - mae: 0.3519 - val_loss: 0.1556 - val_mae: 0.3534\n",
      "Epoch 14/50\n",
      "\u001b[1m13/13\u001b[0m \u001b[32m━━━━━━━━━━━━━━━━━━━━\u001b[0m\u001b[37m\u001b[0m \u001b[1m0s\u001b[0m 3ms/step - loss: 0.1575 - mae: 0.3552 - val_loss: 0.1548 - val_mae: 0.3493\n",
      "Epoch 15/50\n",
      "\u001b[1m13/13\u001b[0m \u001b[32m━━━━━━━━━━━━━━━━━━━━\u001b[0m\u001b[37m\u001b[0m \u001b[1m0s\u001b[0m 4ms/step - loss: 0.1535 - mae: 0.3525 - val_loss: 0.1541 - val_mae: 0.3495\n",
      "Epoch 16/50\n",
      "\u001b[1m13/13\u001b[0m \u001b[32m━━━━━━━━━━━━━━━━━━━━\u001b[0m\u001b[37m\u001b[0m \u001b[1m0s\u001b[0m 3ms/step - loss: 0.1532 - mae: 0.3457 - val_loss: 0.1540 - val_mae: 0.3525\n",
      "Epoch 17/50\n",
      "\u001b[1m13/13\u001b[0m \u001b[32m━━━━━━━━━━━━━━━━━━━━\u001b[0m\u001b[37m\u001b[0m \u001b[1m0s\u001b[0m 3ms/step - loss: 0.1516 - mae: 0.3506 - val_loss: 0.1514 - val_mae: 0.3464\n",
      "Epoch 18/50\n",
      "\u001b[1m13/13\u001b[0m \u001b[32m━━━━━━━━━━━━━━━━━━━━\u001b[0m\u001b[37m\u001b[0m \u001b[1m0s\u001b[0m 4ms/step - loss: 0.1515 - mae: 0.3454 - val_loss: 0.1509 - val_mae: 0.3463\n",
      "Epoch 19/50\n",
      "\u001b[1m13/13\u001b[0m \u001b[32m━━━━━━━━━━━━━━━━━━━━\u001b[0m\u001b[37m\u001b[0m \u001b[1m0s\u001b[0m 4ms/step - loss: 0.1493 - mae: 0.3425 - val_loss: 0.1537 - val_mae: 0.3522\n",
      "Epoch 20/50\n",
      "\u001b[1m13/13\u001b[0m \u001b[32m━━━━━━━━━━━━━━━━━━━━\u001b[0m\u001b[37m\u001b[0m \u001b[1m0s\u001b[0m 3ms/step - loss: 0.1524 - mae: 0.3491 - val_loss: 0.1498 - val_mae: 0.3457\n",
      "Epoch 21/50\n",
      "\u001b[1m13/13\u001b[0m \u001b[32m━━━━━━━━━━━━━━━━━━━━\u001b[0m\u001b[37m\u001b[0m \u001b[1m0s\u001b[0m 4ms/step - loss: 0.1512 - mae: 0.3485 - val_loss: 0.1491 - val_mae: 0.3414\n",
      "Epoch 22/50\n",
      "\u001b[1m13/13\u001b[0m \u001b[32m━━━━━━━━━━━━━━━━━━━━\u001b[0m\u001b[37m\u001b[0m \u001b[1m0s\u001b[0m 3ms/step - loss: 0.1493 - mae: 0.3445 - val_loss: 0.1491 - val_mae: 0.3462\n",
      "Epoch 23/50\n",
      "\u001b[1m13/13\u001b[0m \u001b[32m━━━━━━━━━━━━━━━━━━━━\u001b[0m\u001b[37m\u001b[0m \u001b[1m0s\u001b[0m 4ms/step - loss: 0.1478 - mae: 0.3416 - val_loss: 0.1480 - val_mae: 0.3409\n",
      "Epoch 24/50\n",
      "\u001b[1m13/13\u001b[0m \u001b[32m━━━━━━━━━━━━━━━━━━━━\u001b[0m\u001b[37m\u001b[0m \u001b[1m0s\u001b[0m 4ms/step - loss: 0.1452 - mae: 0.3383 - val_loss: 0.1463 - val_mae: 0.3388\n",
      "Epoch 25/50\n",
      "\u001b[1m13/13\u001b[0m \u001b[32m━━━━━━━━━━━━━━━━━━━━\u001b[0m\u001b[37m\u001b[0m \u001b[1m0s\u001b[0m 4ms/step - loss: 0.1445 - mae: 0.3368 - val_loss: 0.1455 - val_mae: 0.3393\n",
      "Epoch 26/50\n",
      "\u001b[1m13/13\u001b[0m \u001b[32m━━━━━━━━━━━━━━━━━━━━\u001b[0m\u001b[37m\u001b[0m \u001b[1m0s\u001b[0m 4ms/step - loss: 0.1443 - mae: 0.3326 - val_loss: 0.1476 - val_mae: 0.3427\n",
      "Epoch 27/50\n",
      "\u001b[1m13/13\u001b[0m \u001b[32m━━━━━━━━━━━━━━━━━━━━\u001b[0m\u001b[37m\u001b[0m \u001b[1m0s\u001b[0m 3ms/step - loss: 0.1453 - mae: 0.3431 - val_loss: 0.1438 - val_mae: 0.3337\n",
      "Epoch 28/50\n",
      "\u001b[1m13/13\u001b[0m \u001b[32m━━━━━━━━━━━━━━━━━━━━\u001b[0m\u001b[37m\u001b[0m \u001b[1m0s\u001b[0m 3ms/step - loss: 0.1403 - mae: 0.3312 - val_loss: 0.1435 - val_mae: 0.3330\n",
      "Epoch 29/50\n",
      "\u001b[1m13/13\u001b[0m \u001b[32m━━━━━━━━━━━━━━━━━━━━\u001b[0m\u001b[37m\u001b[0m \u001b[1m0s\u001b[0m 3ms/step - loss: 0.1398 - mae: 0.3284 - val_loss: 0.1536 - val_mae: 0.3479\n",
      "Epoch 30/50\n",
      "\u001b[1m13/13\u001b[0m \u001b[32m━━━━━━━━━━━━━━━━━━━━\u001b[0m\u001b[37m\u001b[0m \u001b[1m0s\u001b[0m 4ms/step - loss: 0.1404 - mae: 0.3318 - val_loss: 0.1446 - val_mae: 0.3288\n",
      "Epoch 31/50\n",
      "\u001b[1m13/13\u001b[0m \u001b[32m━━━━━━━━━━━━━━━━━━━━\u001b[0m\u001b[37m\u001b[0m \u001b[1m0s\u001b[0m 3ms/step - loss: 0.1465 - mae: 0.3337 - val_loss: 0.1418 - val_mae: 0.3349\n",
      "Epoch 32/50\n",
      "\u001b[1m13/13\u001b[0m \u001b[32m━━━━━━━━━━━━━━━━━━━━\u001b[0m\u001b[37m\u001b[0m \u001b[1m0s\u001b[0m 3ms/step - loss: 0.1396 - mae: 0.3273 - val_loss: 0.1444 - val_mae: 0.3397\n",
      "Epoch 33/50\n",
      "\u001b[1m13/13\u001b[0m \u001b[32m━━━━━━━━━━━━━━━━━━━━\u001b[0m\u001b[37m\u001b[0m \u001b[1m0s\u001b[0m 4ms/step - loss: 0.1390 - mae: 0.3327 - val_loss: 0.1393 - val_mae: 0.3281\n",
      "Epoch 34/50\n",
      "\u001b[1m13/13\u001b[0m \u001b[32m━━━━━━━━━━━━━━━━━━━━\u001b[0m\u001b[37m\u001b[0m \u001b[1m0s\u001b[0m 3ms/step - loss: 0.1383 - mae: 0.3288 - val_loss: 0.1395 - val_mae: 0.3244\n",
      "Epoch 35/50\n",
      "\u001b[1m13/13\u001b[0m \u001b[32m━━━━━━━━━━━━━━━━━━━━\u001b[0m\u001b[37m\u001b[0m \u001b[1m0s\u001b[0m 3ms/step - loss: 0.1390 - mae: 0.3179 - val_loss: 0.1465 - val_mae: 0.3432\n",
      "Epoch 36/50\n",
      "\u001b[1m13/13\u001b[0m \u001b[32m━━━━━━━━━━━━━━━━━━━━\u001b[0m\u001b[37m\u001b[0m \u001b[1m0s\u001b[0m 3ms/step - loss: 0.1439 - mae: 0.3371 - val_loss: 0.1374 - val_mae: 0.3226\n",
      "Epoch 37/50\n",
      "\u001b[1m13/13\u001b[0m \u001b[32m━━━━━━━━━━━━━━━━━━━━\u001b[0m\u001b[37m\u001b[0m \u001b[1m0s\u001b[0m 3ms/step - loss: 0.1367 - mae: 0.3216 - val_loss: 0.1371 - val_mae: 0.3195\n",
      "Epoch 38/50\n",
      "\u001b[1m13/13\u001b[0m \u001b[32m━━━━━━━━━━━━━━━━━━━━\u001b[0m\u001b[37m\u001b[0m \u001b[1m0s\u001b[0m 4ms/step - loss: 0.1358 - mae: 0.3173 - val_loss: 0.1352 - val_mae: 0.3256\n",
      "Epoch 39/50\n",
      "\u001b[1m13/13\u001b[0m \u001b[32m━━━━━━━━━━━━━━━━━━━━\u001b[0m\u001b[37m\u001b[0m \u001b[1m0s\u001b[0m 4ms/step - loss: 0.1331 - mae: 0.3165 - val_loss: 0.1371 - val_mae: 0.3280\n",
      "Epoch 40/50\n",
      "\u001b[1m13/13\u001b[0m \u001b[32m━━━━━━━━━━━━━━━━━━━━\u001b[0m\u001b[37m\u001b[0m \u001b[1m0s\u001b[0m 4ms/step - loss: 0.1334 - mae: 0.3243 - val_loss: 0.1344 - val_mae: 0.3180\n",
      "Epoch 41/50\n",
      "\u001b[1m13/13\u001b[0m \u001b[32m━━━━━━━━━━━━━━━━━━━━\u001b[0m\u001b[37m\u001b[0m \u001b[1m0s\u001b[0m 4ms/step - loss: 0.1320 - mae: 0.3192 - val_loss: 0.1329 - val_mae: 0.3154\n",
      "Epoch 42/50\n",
      "\u001b[1m13/13\u001b[0m \u001b[32m━━━━━━━━━━━━━━━━━━━━\u001b[0m\u001b[37m\u001b[0m \u001b[1m0s\u001b[0m 3ms/step - loss: 0.1334 - mae: 0.3149 - val_loss: 0.1317 - val_mae: 0.3153\n",
      "Epoch 43/50\n",
      "\u001b[1m13/13\u001b[0m \u001b[32m━━━━━━━━━━━━━━━━━━━━\u001b[0m\u001b[37m\u001b[0m \u001b[1m0s\u001b[0m 3ms/step - loss: 0.1325 - mae: 0.3175 - val_loss: 0.1312 - val_mae: 0.3154\n",
      "Epoch 44/50\n",
      "\u001b[1m13/13\u001b[0m \u001b[32m━━━━━━━━━━━━━━━━━━━━\u001b[0m\u001b[37m\u001b[0m \u001b[1m0s\u001b[0m 3ms/step - loss: 0.1275 - mae: 0.3115 - val_loss: 0.1327 - val_mae: 0.3126\n",
      "Epoch 45/50\n",
      "\u001b[1m13/13\u001b[0m \u001b[32m━━━━━━━━━━━━━━━━━━━━\u001b[0m\u001b[37m\u001b[0m \u001b[1m0s\u001b[0m 3ms/step - loss: 0.1298 - mae: 0.3084 - val_loss: 0.1380 - val_mae: 0.3253\n",
      "Epoch 46/50\n",
      "\u001b[1m13/13\u001b[0m \u001b[32m━━━━━━━━━━━━━━━━━━━━\u001b[0m\u001b[37m\u001b[0m \u001b[1m0s\u001b[0m 4ms/step - loss: 0.1360 - mae: 0.3216 - val_loss: 0.1314 - val_mae: 0.3208\n",
      "Epoch 47/50\n",
      "\u001b[1m13/13\u001b[0m \u001b[32m━━━━━━━━━━━━━━━━━━━━\u001b[0m\u001b[37m\u001b[0m \u001b[1m0s\u001b[0m 3ms/step - loss: 0.1268 - mae: 0.3151 - val_loss: 0.1294 - val_mae: 0.3105\n",
      "Epoch 48/50\n",
      "\u001b[1m13/13\u001b[0m \u001b[32m━━━━━━━━━━━━━━━━━━━━\u001b[0m\u001b[37m\u001b[0m \u001b[1m0s\u001b[0m 3ms/step - loss: 0.1257 - mae: 0.3064 - val_loss: 0.1286 - val_mae: 0.3091\n",
      "Epoch 49/50\n",
      "\u001b[1m13/13\u001b[0m \u001b[32m━━━━━━━━━━━━━━━━━━━━\u001b[0m\u001b[37m\u001b[0m \u001b[1m0s\u001b[0m 3ms/step - loss: 0.1245 - mae: 0.3055 - val_loss: 0.1285 - val_mae: 0.3119\n",
      "Epoch 50/50\n",
      "\u001b[1m13/13\u001b[0m \u001b[32m━━━━━━━━━━━━━━━━━━━━\u001b[0m\u001b[37m\u001b[0m \u001b[1m0s\u001b[0m 3ms/step - loss: 0.1246 - mae: 0.3050 - val_loss: 0.1272 - val_mae: 0.3111\n"
     ]
    },
    {
     "data": {
      "text/plain": [
       "<keras.src.callbacks.history.History at 0x28d5c64b650>"
      ]
     },
     "execution_count": 16,
     "metadata": {},
     "output_type": "execute_result"
    }
   ],
   "source": [
    "# Define the model (same as your `build_bandwidth_estimator`)\n",
    "def build_bandwidth_estimator(k=25):\n",
    "    model = keras.Sequential([\n",
    "        layers.Input(shape=(k,)),  # Input layer (expects 20 features)\n",
    "        layers.Dense(40, activation='relu'),  # Hidden layer with 40 neurons\n",
    "        layers.Dense(2, activation='linear')  # Output layer (predicts A and C)\n",
    "    ])\n",
    "    \n",
    "    model.compile(optimizer='adam', loss='mse', metrics=['mae'])\n",
    "    return model\n",
    "\n",
    "# Ensure input dimension matches model expectation\n",
    "k = X_train.shape[1]\n",
    "model = build_bandwidth_estimator(k)\n",
    "model.summary()\n",
    "\n",
    "# Train the model\n",
    "model.fit(X_train, y_train, epochs=50, batch_size=32, validation_split=0.2)\n"
   ]
  },
  {
   "cell_type": "code",
   "execution_count": 17,
   "id": "16e5a674",
   "metadata": {},
   "outputs": [
    {
     "name": "stdout",
     "output_type": "stream",
     "text": [
      "\u001b[1m4/4\u001b[0m \u001b[32m━━━━━━━━━━━━━━━━━━━━\u001b[0m\u001b[37m\u001b[0m \u001b[1m0s\u001b[0m 2ms/step - loss: 0.1371 - mae: 0.3271 \n",
      "Test Loss: 0.13045799732208252, Test MAE: 0.3166913688182831\n",
      "\u001b[1m4/4\u001b[0m \u001b[32m━━━━━━━━━━━━━━━━━━━━\u001b[0m\u001b[37m\u001b[0m \u001b[1m0s\u001b[0m 9ms/step \n",
      "Predicted A and C values:\n",
      " [[0.23364168 0.49469203]\n",
      " [0.21333808 0.41473514]\n",
      " [0.34177303 0.49988496]\n",
      " [0.5119712  0.5693545 ]\n",
      " [0.44458383 0.5220114 ]\n",
      " [0.2772223  0.5027796 ]\n",
      " [0.41913274 0.45179656]\n",
      " [0.38314906 0.6339643 ]\n",
      " [0.21114028 0.4671399 ]\n",
      " [0.5105069  0.56499785]\n",
      " [0.42103305 0.47716707]\n",
      " [0.45469618 0.4895143 ]\n",
      " [0.60497713 0.62598103]\n",
      " [0.68104815 0.5811515 ]\n",
      " [0.5283379  0.48341545]\n",
      " [0.5399999  0.54600286]\n",
      " [0.2500628  0.4573246 ]\n",
      " [0.24875668 0.52827775]\n",
      " [0.48348516 0.49982804]\n",
      " [0.21833634 0.49451047]\n",
      " [0.41871604 0.44496793]\n",
      " [0.59939814 0.7007219 ]\n",
      " [0.5099904  0.5117085 ]\n",
      " [0.23884109 0.43660817]\n",
      " [0.23204023 0.4650694 ]\n",
      " [0.6723724  0.62565416]\n",
      " [0.41375    0.44020343]\n",
      " [0.4380773  0.44199052]\n",
      " [0.23418081 0.46320692]\n",
      " [0.19420338 0.43261996]\n",
      " [0.46014673 0.4404893 ]\n",
      " [0.29781353 0.45018685]\n",
      " [0.26200306 0.47329116]\n",
      " [0.2612941  0.46534288]\n",
      " [0.42251736 0.43656865]\n",
      " [0.45497113 0.39199725]\n",
      " [0.36870643 0.51725316]\n",
      " [0.20616612 0.42727655]\n",
      " [0.42887697 0.5833777 ]\n",
      " [0.29849076 0.525546  ]\n",
      " [0.5006169  0.42559627]\n",
      " [1.079746   1.3305987 ]\n",
      " [0.9838101  1.1764224 ]\n",
      " [0.4473446  0.36834198]\n",
      " [0.25504246 0.53289914]\n",
      " [0.49992245 0.6076294 ]\n",
      " [0.297497   0.5130212 ]\n",
      " [0.2256335  0.44430742]\n",
      " [0.69303256 0.6269483 ]\n",
      " [0.38286662 0.4391915 ]\n",
      " [0.32402122 0.3459802 ]\n",
      " [0.25977954 0.4920022 ]\n",
      " [0.41557127 0.42643204]\n",
      " [0.18665406 0.4376775 ]\n",
      " [0.40181214 0.36569622]\n",
      " [0.34699845 0.4921629 ]\n",
      " [0.44283208 0.44719395]\n",
      " [0.3781029  0.43420944]\n",
      " [0.45255578 0.45135117]\n",
      " [0.93614453 0.8520128 ]\n",
      " [0.22772664 0.42648077]\n",
      " [0.4052391  0.43561733]\n",
      " [0.45255035 0.40019047]\n",
      " [0.5002965  0.3069529 ]\n",
      " [0.21571392 0.51805824]\n",
      " [0.39879656 0.45891193]\n",
      " [0.5655744  0.54402584]\n",
      " [0.45109957 0.40591842]\n",
      " [0.22411901 0.43213546]\n",
      " [0.46396595 0.4643854 ]\n",
      " [0.4166231  0.4777158 ]\n",
      " [0.5741345  0.54989964]\n",
      " [0.55514497 0.6305432 ]\n",
      " [0.4279748  0.386422  ]\n",
      " [0.7041298  0.9559176 ]\n",
      " [0.40243742 0.42457542]\n",
      " [0.3859373  0.44531846]\n",
      " [0.68320113 0.59206545]\n",
      " [0.46086937 0.3995046 ]\n",
      " [0.5407183  0.49818766]\n",
      " [0.2510002  0.51893187]\n",
      " [0.9984905  1.1900518 ]\n",
      " [0.22140193 0.39310494]\n",
      " [0.46095395 0.39572826]\n",
      " [0.38300082 0.53811836]\n",
      " [0.24954423 0.4369603 ]\n",
      " [0.5327265  0.5676525 ]\n",
      " [0.42744118 0.4675155 ]\n",
      " [0.23146471 0.45699424]\n",
      " [0.24788845 0.5152355 ]\n",
      " [0.45758063 0.43483633]\n",
      " [0.45222306 0.39191222]\n",
      " [0.5473286  0.50996995]\n",
      " [0.46254647 0.54424876]\n",
      " [0.57973963 0.58604604]\n",
      " [0.28063017 0.5517978 ]\n",
      " [0.23262891 0.5092262 ]\n",
      " [0.20594463 0.398618  ]\n",
      " [0.22120064 0.42628646]\n",
      " [0.21240252 0.40859497]\n",
      " [0.42134762 0.57838434]\n",
      " [0.4728672  0.4129367 ]\n",
      " [0.5450403  0.47482044]\n",
      " [0.24242717 0.4174061 ]\n",
      " [0.24768561 0.4112936 ]\n",
      " [1.2715387  0.9126939 ]\n",
      " [0.56183606 0.58037275]\n",
      " [0.7498897  0.7038422 ]\n",
      " [0.24246734 0.4498176 ]\n",
      " [0.24537644 0.44837222]\n",
      " [0.45181352 0.57712334]\n",
      " [0.22293773 0.44901443]\n",
      " [0.56543636 0.6129387 ]\n",
      " [0.41445735 0.4280766 ]\n",
      " [0.27828094 0.5251372 ]\n",
      " [0.44667536 0.5657841 ]\n",
      " [0.21190593 0.43712226]\n",
      " [0.45228648 0.36240074]\n",
      " [0.23807463 0.4573982 ]\n",
      " [0.46057904 0.5330339 ]\n",
      " [0.33604333 0.5255519 ]\n",
      " [0.23491046 0.42459154]\n",
      " [0.3762875  0.5805014 ]\n",
      " [0.5012951  0.41384792]\n",
      " [0.43434802 0.36268368]\n",
      " [0.51572204 0.46426618]]\n"
     ]
    }
   ],
   "source": [
    "# Evaluate model on test data\n",
    "test_loss, test_mae = model.evaluate(X_test, y_test)\n",
    "print(f\"Test Loss: {test_loss}, Test MAE: {test_mae}\")\n",
    "\n",
    "# Predict Available Bandwidth (A) and Capacity (C)\n",
    "predictions = model.predict(X_test)\n",
    "print(\"Predicted A and C values:\\n\", predictions)\n"
   ]
  },
  {
   "cell_type": "code",
   "execution_count": null,
   "id": "61458aac",
   "metadata": {},
   "outputs": [],
   "source": []
  }
 ],
 "metadata": {
  "kernelspec": {
   "display_name": "Python 3 (ipykernel)",
   "language": "python",
   "name": "python3"
  },
  "language_info": {
   "codemirror_mode": {
    "name": "ipython",
    "version": 3
   },
   "file_extension": ".py",
   "mimetype": "text/x-python",
   "name": "python",
   "nbconvert_exporter": "python",
   "pygments_lexer": "ipython3",
   "version": "3.11.7"
  }
 },
 "nbformat": 4,
 "nbformat_minor": 5
}
